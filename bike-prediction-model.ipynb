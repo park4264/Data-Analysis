{
 "cells": [
  {
   "cell_type": "code",
   "execution_count": 1,
   "id": "7f740141",
   "metadata": {
    "_cell_guid": "b1076dfc-b9ad-4769-8c92-a6c4dae69d19",
    "_uuid": "8f2839f25d086af736a60e9eeb907d3b93b6e0e5",
    "execution": {
     "iopub.execute_input": "2023-03-08T05:55:56.006329Z",
     "iopub.status.busy": "2023-03-08T05:55:56.005611Z",
     "iopub.status.idle": "2023-03-08T05:55:56.017630Z",
     "shell.execute_reply": "2023-03-08T05:55:56.016717Z"
    },
    "papermill": {
     "duration": 0.030736,
     "end_time": "2023-03-08T05:55:56.020692",
     "exception": false,
     "start_time": "2023-03-08T05:55:55.989956",
     "status": "completed"
    },
    "tags": []
   },
   "outputs": [
    {
     "name": "stdout",
     "output_type": "stream",
     "text": [
      "/kaggle/input/bike-sharing-demand/sampleSubmission.csv\n",
      "/kaggle/input/bike-sharing-demand/train.csv\n",
      "/kaggle/input/bike-sharing-demand/test.csv\n"
     ]
    }
   ],
   "source": [
    "import numpy as np # linear algebra\n",
    "import pandas as pd # data processing, CSV file I/O (e.g. pd.read_csv)\n",
    "import os\n",
    "for dirname, _, filenames in os.walk('/kaggle/input'):\n",
    "    for filename in filenames:\n",
    "        print(os.path.join(dirname, filename))"
   ]
  },
  {
   "cell_type": "markdown",
   "id": "0cb06f34",
   "metadata": {
    "papermill": {
     "duration": 0.012171,
     "end_time": "2023-03-08T05:55:56.046549",
     "exception": false,
     "start_time": "2023-03-08T05:55:56.034378",
     "status": "completed"
    },
    "tags": []
   },
   "source": [
    "# **Bike Sharing Demand** 🚴‍♂️\n",
    "\n",
    "1. EDA: https://www.kaggle.com/code/park4264/bike-prediction-eda\n",
    "- Source: https://www.kaggle.com/code/werooring/ch6-baseline/notebook\n",
    "\n",
    "\n",
    "# **2. Modeling**\n",
    "\n",
    "# 2-1. 베이스라인 모델\n",
    "\n",
    "\n",
    "- 베이스라인 모델이란 뼈대가 되는 가장 기본적인 모델을 의미\n",
    "- 베이스라인 모델에서 출발해 성능을 점차 향상시키는 방향으로 모델링\n",
    "\n",
    "## 2-1-1. 전체 프로세스 설명 및 데이터 불러오기\n",
    "- 데이터 불러오기 $\\Rightarrow$ (기본적인) 피처 엔지니어링 $\\Rightarrow$ 평가지표 계산함수 작성 $\\Rightarrow$ 모델 훈련 $\\Rightarrow$ 성능 검증 $\\Rightarrow$ 제출"
   ]
  },
  {
   "cell_type": "code",
   "execution_count": 2,
   "id": "096893af",
   "metadata": {
    "execution": {
     "iopub.execute_input": "2023-03-08T05:55:56.073144Z",
     "iopub.status.busy": "2023-03-08T05:55:56.072689Z",
     "iopub.status.idle": "2023-03-08T05:55:56.152125Z",
     "shell.execute_reply": "2023-03-08T05:55:56.151173Z"
    },
    "papermill": {
     "duration": 0.09581,
     "end_time": "2023-03-08T05:55:56.154745",
     "exception": false,
     "start_time": "2023-03-08T05:55:56.058935",
     "status": "completed"
    },
    "tags": []
   },
   "outputs": [],
   "source": [
    "# 데이터 경로\n",
    "data_path = '/kaggle/input/bike-sharing-demand/'\n",
    "\n",
    "train = pd.read_csv(data_path + 'train.csv')\n",
    "test = pd.read_csv(data_path + 'test.csv')\n",
    "submission = pd.read_csv(data_path + 'sampleSubmission.csv')"
   ]
  },
  {
   "cell_type": "markdown",
   "id": "68966c4e",
   "metadata": {
    "papermill": {
     "duration": 0.012177,
     "end_time": "2023-03-08T05:55:56.180794",
     "exception": false,
     "start_time": "2023-03-08T05:55:56.168617",
     "status": "completed"
    },
    "tags": []
   },
   "source": [
    "## 2-1-2. 피처 엔지니어링\n",
    "\n",
    "- 보통 이 변환은 훈련데이터 테스트 데이터 공통으로 반영해야 함.\n",
    "- 피처 엔지니어링 전에 두 데이터를 합쳤다가 다 끝나면 도로 나눠준다.\n",
    "\n",
    "### 2-1-2_1. 이상치 제거"
   ]
  },
  {
   "cell_type": "code",
   "execution_count": 3,
   "id": "16796ece",
   "metadata": {
    "execution": {
     "iopub.execute_input": "2023-03-08T05:55:56.208054Z",
     "iopub.status.busy": "2023-03-08T05:55:56.207263Z",
     "iopub.status.idle": "2023-03-08T05:55:56.222753Z",
     "shell.execute_reply": "2023-03-08T05:55:56.221719Z"
    },
    "papermill": {
     "duration": 0.032541,
     "end_time": "2023-03-08T05:55:56.225774",
     "exception": false,
     "start_time": "2023-03-08T05:55:56.193233",
     "status": "completed"
    },
    "tags": []
   },
   "outputs": [],
   "source": [
    "# 훈련 데이터에서 weather가 4가 아닌 데이터만 추출\n",
    "train = train[train['weather'] != 4]"
   ]
  },
  {
   "cell_type": "markdown",
   "id": "ba66235f",
   "metadata": {
    "papermill": {
     "duration": 0.012127,
     "end_time": "2023-03-08T05:55:56.250490",
     "exception": false,
     "start_time": "2023-03-08T05:55:56.238363",
     "status": "completed"
    },
    "tags": []
   },
   "source": [
    "### 2-1-2_2. 데이터 합치기\n",
    "\n",
    "- 훈련 데이터와 테스트 데이터에 같은 피처 엔지니어링을 적용하기 위해 두 데이터를 하나로 합칠 것이다.\n",
    "- 판다스의 `concat()` 함수를 사용하면 축을 따라 `DataFrame`을 이어붙일 수 있다.\n"
   ]
  },
  {
   "cell_type": "code",
   "execution_count": 4,
   "id": "d8555492",
   "metadata": {
    "execution": {
     "iopub.execute_input": "2023-03-08T05:55:56.279067Z",
     "iopub.status.busy": "2023-03-08T05:55:56.277791Z",
     "iopub.status.idle": "2023-03-08T05:55:56.321586Z",
     "shell.execute_reply": "2023-03-08T05:55:56.320274Z"
    },
    "papermill": {
     "duration": 0.060393,
     "end_time": "2023-03-08T05:55:56.324119",
     "exception": false,
     "start_time": "2023-03-08T05:55:56.263726",
     "status": "completed"
    },
    "tags": []
   },
   "outputs": [
    {
     "data": {
      "text/html": [
       "<div>\n",
       "<style scoped>\n",
       "    .dataframe tbody tr th:only-of-type {\n",
       "        vertical-align: middle;\n",
       "    }\n",
       "\n",
       "    .dataframe tbody tr th {\n",
       "        vertical-align: top;\n",
       "    }\n",
       "\n",
       "    .dataframe thead th {\n",
       "        text-align: right;\n",
       "    }\n",
       "</style>\n",
       "<table border=\"1\" class=\"dataframe\">\n",
       "  <thead>\n",
       "    <tr style=\"text-align: right;\">\n",
       "      <th></th>\n",
       "      <th>datetime</th>\n",
       "      <th>season</th>\n",
       "      <th>holiday</th>\n",
       "      <th>workingday</th>\n",
       "      <th>weather</th>\n",
       "      <th>temp</th>\n",
       "      <th>atemp</th>\n",
       "      <th>humidity</th>\n",
       "      <th>windspeed</th>\n",
       "      <th>casual</th>\n",
       "      <th>registered</th>\n",
       "      <th>count</th>\n",
       "    </tr>\n",
       "  </thead>\n",
       "  <tbody>\n",
       "    <tr>\n",
       "      <th>0</th>\n",
       "      <td>2011-01-01 00:00:00</td>\n",
       "      <td>1</td>\n",
       "      <td>0</td>\n",
       "      <td>0</td>\n",
       "      <td>1</td>\n",
       "      <td>9.84</td>\n",
       "      <td>14.395</td>\n",
       "      <td>81</td>\n",
       "      <td>0.0000</td>\n",
       "      <td>3.0</td>\n",
       "      <td>13.0</td>\n",
       "      <td>16.0</td>\n",
       "    </tr>\n",
       "    <tr>\n",
       "      <th>1</th>\n",
       "      <td>2011-01-01 01:00:00</td>\n",
       "      <td>1</td>\n",
       "      <td>0</td>\n",
       "      <td>0</td>\n",
       "      <td>1</td>\n",
       "      <td>9.02</td>\n",
       "      <td>13.635</td>\n",
       "      <td>80</td>\n",
       "      <td>0.0000</td>\n",
       "      <td>8.0</td>\n",
       "      <td>32.0</td>\n",
       "      <td>40.0</td>\n",
       "    </tr>\n",
       "    <tr>\n",
       "      <th>2</th>\n",
       "      <td>2011-01-01 02:00:00</td>\n",
       "      <td>1</td>\n",
       "      <td>0</td>\n",
       "      <td>0</td>\n",
       "      <td>1</td>\n",
       "      <td>9.02</td>\n",
       "      <td>13.635</td>\n",
       "      <td>80</td>\n",
       "      <td>0.0000</td>\n",
       "      <td>5.0</td>\n",
       "      <td>27.0</td>\n",
       "      <td>32.0</td>\n",
       "    </tr>\n",
       "    <tr>\n",
       "      <th>3</th>\n",
       "      <td>2011-01-01 03:00:00</td>\n",
       "      <td>1</td>\n",
       "      <td>0</td>\n",
       "      <td>0</td>\n",
       "      <td>1</td>\n",
       "      <td>9.84</td>\n",
       "      <td>14.395</td>\n",
       "      <td>75</td>\n",
       "      <td>0.0000</td>\n",
       "      <td>3.0</td>\n",
       "      <td>10.0</td>\n",
       "      <td>13.0</td>\n",
       "    </tr>\n",
       "    <tr>\n",
       "      <th>4</th>\n",
       "      <td>2011-01-01 04:00:00</td>\n",
       "      <td>1</td>\n",
       "      <td>0</td>\n",
       "      <td>0</td>\n",
       "      <td>1</td>\n",
       "      <td>9.84</td>\n",
       "      <td>14.395</td>\n",
       "      <td>75</td>\n",
       "      <td>0.0000</td>\n",
       "      <td>0.0</td>\n",
       "      <td>1.0</td>\n",
       "      <td>1.0</td>\n",
       "    </tr>\n",
       "    <tr>\n",
       "      <th>...</th>\n",
       "      <td>...</td>\n",
       "      <td>...</td>\n",
       "      <td>...</td>\n",
       "      <td>...</td>\n",
       "      <td>...</td>\n",
       "      <td>...</td>\n",
       "      <td>...</td>\n",
       "      <td>...</td>\n",
       "      <td>...</td>\n",
       "      <td>...</td>\n",
       "      <td>...</td>\n",
       "      <td>...</td>\n",
       "    </tr>\n",
       "    <tr>\n",
       "      <th>6488</th>\n",
       "      <td>2012-12-31 19:00:00</td>\n",
       "      <td>1</td>\n",
       "      <td>0</td>\n",
       "      <td>1</td>\n",
       "      <td>2</td>\n",
       "      <td>10.66</td>\n",
       "      <td>12.880</td>\n",
       "      <td>60</td>\n",
       "      <td>11.0014</td>\n",
       "      <td>NaN</td>\n",
       "      <td>NaN</td>\n",
       "      <td>NaN</td>\n",
       "    </tr>\n",
       "    <tr>\n",
       "      <th>6489</th>\n",
       "      <td>2012-12-31 20:00:00</td>\n",
       "      <td>1</td>\n",
       "      <td>0</td>\n",
       "      <td>1</td>\n",
       "      <td>2</td>\n",
       "      <td>10.66</td>\n",
       "      <td>12.880</td>\n",
       "      <td>60</td>\n",
       "      <td>11.0014</td>\n",
       "      <td>NaN</td>\n",
       "      <td>NaN</td>\n",
       "      <td>NaN</td>\n",
       "    </tr>\n",
       "    <tr>\n",
       "      <th>6490</th>\n",
       "      <td>2012-12-31 21:00:00</td>\n",
       "      <td>1</td>\n",
       "      <td>0</td>\n",
       "      <td>1</td>\n",
       "      <td>1</td>\n",
       "      <td>10.66</td>\n",
       "      <td>12.880</td>\n",
       "      <td>60</td>\n",
       "      <td>11.0014</td>\n",
       "      <td>NaN</td>\n",
       "      <td>NaN</td>\n",
       "      <td>NaN</td>\n",
       "    </tr>\n",
       "    <tr>\n",
       "      <th>6491</th>\n",
       "      <td>2012-12-31 22:00:00</td>\n",
       "      <td>1</td>\n",
       "      <td>0</td>\n",
       "      <td>1</td>\n",
       "      <td>1</td>\n",
       "      <td>10.66</td>\n",
       "      <td>13.635</td>\n",
       "      <td>56</td>\n",
       "      <td>8.9981</td>\n",
       "      <td>NaN</td>\n",
       "      <td>NaN</td>\n",
       "      <td>NaN</td>\n",
       "    </tr>\n",
       "    <tr>\n",
       "      <th>6492</th>\n",
       "      <td>2012-12-31 23:00:00</td>\n",
       "      <td>1</td>\n",
       "      <td>0</td>\n",
       "      <td>1</td>\n",
       "      <td>1</td>\n",
       "      <td>10.66</td>\n",
       "      <td>13.635</td>\n",
       "      <td>65</td>\n",
       "      <td>8.9981</td>\n",
       "      <td>NaN</td>\n",
       "      <td>NaN</td>\n",
       "      <td>NaN</td>\n",
       "    </tr>\n",
       "  </tbody>\n",
       "</table>\n",
       "<p>17378 rows × 12 columns</p>\n",
       "</div>"
      ],
      "text/plain": [
       "                 datetime  season  holiday  workingday  weather   temp  \\\n",
       "0     2011-01-01 00:00:00       1        0           0        1   9.84   \n",
       "1     2011-01-01 01:00:00       1        0           0        1   9.02   \n",
       "2     2011-01-01 02:00:00       1        0           0        1   9.02   \n",
       "3     2011-01-01 03:00:00       1        0           0        1   9.84   \n",
       "4     2011-01-01 04:00:00       1        0           0        1   9.84   \n",
       "...                   ...     ...      ...         ...      ...    ...   \n",
       "6488  2012-12-31 19:00:00       1        0           1        2  10.66   \n",
       "6489  2012-12-31 20:00:00       1        0           1        2  10.66   \n",
       "6490  2012-12-31 21:00:00       1        0           1        1  10.66   \n",
       "6491  2012-12-31 22:00:00       1        0           1        1  10.66   \n",
       "6492  2012-12-31 23:00:00       1        0           1        1  10.66   \n",
       "\n",
       "       atemp  humidity  windspeed  casual  registered  count  \n",
       "0     14.395        81     0.0000     3.0        13.0   16.0  \n",
       "1     13.635        80     0.0000     8.0        32.0   40.0  \n",
       "2     13.635        80     0.0000     5.0        27.0   32.0  \n",
       "3     14.395        75     0.0000     3.0        10.0   13.0  \n",
       "4     14.395        75     0.0000     0.0         1.0    1.0  \n",
       "...      ...       ...        ...     ...         ...    ...  \n",
       "6488  12.880        60    11.0014     NaN         NaN    NaN  \n",
       "6489  12.880        60    11.0014     NaN         NaN    NaN  \n",
       "6490  12.880        60    11.0014     NaN         NaN    NaN  \n",
       "6491  13.635        56     8.9981     NaN         NaN    NaN  \n",
       "6492  13.635        65     8.9981     NaN         NaN    NaN  \n",
       "\n",
       "[17378 rows x 12 columns]"
      ]
     },
     "execution_count": 4,
     "metadata": {},
     "output_type": "execute_result"
    }
   ],
   "source": [
    "all_data_temp = pd.concat([train, test])\n",
    "all_data_temp"
   ]
  },
  {
   "cell_type": "code",
   "execution_count": 5,
   "id": "a8d3d3a1",
   "metadata": {
    "execution": {
     "iopub.execute_input": "2023-03-08T05:55:56.352486Z",
     "iopub.status.busy": "2023-03-08T05:55:56.351647Z",
     "iopub.status.idle": "2023-03-08T05:55:56.378827Z",
     "shell.execute_reply": "2023-03-08T05:55:56.377626Z"
    },
    "papermill": {
     "duration": 0.044649,
     "end_time": "2023-03-08T05:55:56.381684",
     "exception": false,
     "start_time": "2023-03-08T05:55:56.337035",
     "status": "completed"
    },
    "tags": []
   },
   "outputs": [
    {
     "data": {
      "text/html": [
       "<div>\n",
       "<style scoped>\n",
       "    .dataframe tbody tr th:only-of-type {\n",
       "        vertical-align: middle;\n",
       "    }\n",
       "\n",
       "    .dataframe tbody tr th {\n",
       "        vertical-align: top;\n",
       "    }\n",
       "\n",
       "    .dataframe thead th {\n",
       "        text-align: right;\n",
       "    }\n",
       "</style>\n",
       "<table border=\"1\" class=\"dataframe\">\n",
       "  <thead>\n",
       "    <tr style=\"text-align: right;\">\n",
       "      <th></th>\n",
       "      <th>datetime</th>\n",
       "      <th>season</th>\n",
       "      <th>holiday</th>\n",
       "      <th>workingday</th>\n",
       "      <th>weather</th>\n",
       "      <th>temp</th>\n",
       "      <th>atemp</th>\n",
       "      <th>humidity</th>\n",
       "      <th>windspeed</th>\n",
       "      <th>casual</th>\n",
       "      <th>registered</th>\n",
       "      <th>count</th>\n",
       "    </tr>\n",
       "  </thead>\n",
       "  <tbody>\n",
       "    <tr>\n",
       "      <th>0</th>\n",
       "      <td>2011-01-01 00:00:00</td>\n",
       "      <td>1</td>\n",
       "      <td>0</td>\n",
       "      <td>0</td>\n",
       "      <td>1</td>\n",
       "      <td>9.84</td>\n",
       "      <td>14.395</td>\n",
       "      <td>81</td>\n",
       "      <td>0.0000</td>\n",
       "      <td>3.0</td>\n",
       "      <td>13.0</td>\n",
       "      <td>16.0</td>\n",
       "    </tr>\n",
       "    <tr>\n",
       "      <th>1</th>\n",
       "      <td>2011-01-01 01:00:00</td>\n",
       "      <td>1</td>\n",
       "      <td>0</td>\n",
       "      <td>0</td>\n",
       "      <td>1</td>\n",
       "      <td>9.02</td>\n",
       "      <td>13.635</td>\n",
       "      <td>80</td>\n",
       "      <td>0.0000</td>\n",
       "      <td>8.0</td>\n",
       "      <td>32.0</td>\n",
       "      <td>40.0</td>\n",
       "    </tr>\n",
       "    <tr>\n",
       "      <th>2</th>\n",
       "      <td>2011-01-01 02:00:00</td>\n",
       "      <td>1</td>\n",
       "      <td>0</td>\n",
       "      <td>0</td>\n",
       "      <td>1</td>\n",
       "      <td>9.02</td>\n",
       "      <td>13.635</td>\n",
       "      <td>80</td>\n",
       "      <td>0.0000</td>\n",
       "      <td>5.0</td>\n",
       "      <td>27.0</td>\n",
       "      <td>32.0</td>\n",
       "    </tr>\n",
       "    <tr>\n",
       "      <th>3</th>\n",
       "      <td>2011-01-01 03:00:00</td>\n",
       "      <td>1</td>\n",
       "      <td>0</td>\n",
       "      <td>0</td>\n",
       "      <td>1</td>\n",
       "      <td>9.84</td>\n",
       "      <td>14.395</td>\n",
       "      <td>75</td>\n",
       "      <td>0.0000</td>\n",
       "      <td>3.0</td>\n",
       "      <td>10.0</td>\n",
       "      <td>13.0</td>\n",
       "    </tr>\n",
       "    <tr>\n",
       "      <th>4</th>\n",
       "      <td>2011-01-01 04:00:00</td>\n",
       "      <td>1</td>\n",
       "      <td>0</td>\n",
       "      <td>0</td>\n",
       "      <td>1</td>\n",
       "      <td>9.84</td>\n",
       "      <td>14.395</td>\n",
       "      <td>75</td>\n",
       "      <td>0.0000</td>\n",
       "      <td>0.0</td>\n",
       "      <td>1.0</td>\n",
       "      <td>1.0</td>\n",
       "    </tr>\n",
       "    <tr>\n",
       "      <th>...</th>\n",
       "      <td>...</td>\n",
       "      <td>...</td>\n",
       "      <td>...</td>\n",
       "      <td>...</td>\n",
       "      <td>...</td>\n",
       "      <td>...</td>\n",
       "      <td>...</td>\n",
       "      <td>...</td>\n",
       "      <td>...</td>\n",
       "      <td>...</td>\n",
       "      <td>...</td>\n",
       "      <td>...</td>\n",
       "    </tr>\n",
       "    <tr>\n",
       "      <th>17373</th>\n",
       "      <td>2012-12-31 19:00:00</td>\n",
       "      <td>1</td>\n",
       "      <td>0</td>\n",
       "      <td>1</td>\n",
       "      <td>2</td>\n",
       "      <td>10.66</td>\n",
       "      <td>12.880</td>\n",
       "      <td>60</td>\n",
       "      <td>11.0014</td>\n",
       "      <td>NaN</td>\n",
       "      <td>NaN</td>\n",
       "      <td>NaN</td>\n",
       "    </tr>\n",
       "    <tr>\n",
       "      <th>17374</th>\n",
       "      <td>2012-12-31 20:00:00</td>\n",
       "      <td>1</td>\n",
       "      <td>0</td>\n",
       "      <td>1</td>\n",
       "      <td>2</td>\n",
       "      <td>10.66</td>\n",
       "      <td>12.880</td>\n",
       "      <td>60</td>\n",
       "      <td>11.0014</td>\n",
       "      <td>NaN</td>\n",
       "      <td>NaN</td>\n",
       "      <td>NaN</td>\n",
       "    </tr>\n",
       "    <tr>\n",
       "      <th>17375</th>\n",
       "      <td>2012-12-31 21:00:00</td>\n",
       "      <td>1</td>\n",
       "      <td>0</td>\n",
       "      <td>1</td>\n",
       "      <td>1</td>\n",
       "      <td>10.66</td>\n",
       "      <td>12.880</td>\n",
       "      <td>60</td>\n",
       "      <td>11.0014</td>\n",
       "      <td>NaN</td>\n",
       "      <td>NaN</td>\n",
       "      <td>NaN</td>\n",
       "    </tr>\n",
       "    <tr>\n",
       "      <th>17376</th>\n",
       "      <td>2012-12-31 22:00:00</td>\n",
       "      <td>1</td>\n",
       "      <td>0</td>\n",
       "      <td>1</td>\n",
       "      <td>1</td>\n",
       "      <td>10.66</td>\n",
       "      <td>13.635</td>\n",
       "      <td>56</td>\n",
       "      <td>8.9981</td>\n",
       "      <td>NaN</td>\n",
       "      <td>NaN</td>\n",
       "      <td>NaN</td>\n",
       "    </tr>\n",
       "    <tr>\n",
       "      <th>17377</th>\n",
       "      <td>2012-12-31 23:00:00</td>\n",
       "      <td>1</td>\n",
       "      <td>0</td>\n",
       "      <td>1</td>\n",
       "      <td>1</td>\n",
       "      <td>10.66</td>\n",
       "      <td>13.635</td>\n",
       "      <td>65</td>\n",
       "      <td>8.9981</td>\n",
       "      <td>NaN</td>\n",
       "      <td>NaN</td>\n",
       "      <td>NaN</td>\n",
       "    </tr>\n",
       "  </tbody>\n",
       "</table>\n",
       "<p>17378 rows × 12 columns</p>\n",
       "</div>"
      ],
      "text/plain": [
       "                  datetime  season  holiday  workingday  weather   temp  \\\n",
       "0      2011-01-01 00:00:00       1        0           0        1   9.84   \n",
       "1      2011-01-01 01:00:00       1        0           0        1   9.02   \n",
       "2      2011-01-01 02:00:00       1        0           0        1   9.02   \n",
       "3      2011-01-01 03:00:00       1        0           0        1   9.84   \n",
       "4      2011-01-01 04:00:00       1        0           0        1   9.84   \n",
       "...                    ...     ...      ...         ...      ...    ...   \n",
       "17373  2012-12-31 19:00:00       1        0           1        2  10.66   \n",
       "17374  2012-12-31 20:00:00       1        0           1        2  10.66   \n",
       "17375  2012-12-31 21:00:00       1        0           1        1  10.66   \n",
       "17376  2012-12-31 22:00:00       1        0           1        1  10.66   \n",
       "17377  2012-12-31 23:00:00       1        0           1        1  10.66   \n",
       "\n",
       "        atemp  humidity  windspeed  casual  registered  count  \n",
       "0      14.395        81     0.0000     3.0        13.0   16.0  \n",
       "1      13.635        80     0.0000     8.0        32.0   40.0  \n",
       "2      13.635        80     0.0000     5.0        27.0   32.0  \n",
       "3      14.395        75     0.0000     3.0        10.0   13.0  \n",
       "4      14.395        75     0.0000     0.0         1.0    1.0  \n",
       "...       ...       ...        ...     ...         ...    ...  \n",
       "17373  12.880        60    11.0014     NaN         NaN    NaN  \n",
       "17374  12.880        60    11.0014     NaN         NaN    NaN  \n",
       "17375  12.880        60    11.0014     NaN         NaN    NaN  \n",
       "17376  13.635        56     8.9981     NaN         NaN    NaN  \n",
       "17377  13.635        65     8.9981     NaN         NaN    NaN  \n",
       "\n",
       "[17378 rows x 12 columns]"
      ]
     },
     "execution_count": 5,
     "metadata": {},
     "output_type": "execute_result"
    }
   ],
   "source": [
    "all_data = pd.concat([train, test], ignore_index = True) # 원래 데이터의 인덱스를 무시하고 이어붙이기\n",
    "all_data"
   ]
  },
  {
   "cell_type": "markdown",
   "id": "332e8a77",
   "metadata": {
    "papermill": {
     "duration": 0.012947,
     "end_time": "2023-03-08T05:55:56.408285",
     "exception": false,
     "start_time": "2023-03-08T05:55:56.395338",
     "status": "completed"
    },
    "tags": []
   },
   "source": [
    "### 2-1-2_3. 파생 피처(변수) 추가"
   ]
  },
  {
   "cell_type": "code",
   "execution_count": 6,
   "id": "480b3e52",
   "metadata": {
    "execution": {
     "iopub.execute_input": "2023-03-08T05:55:56.438553Z",
     "iopub.status.busy": "2023-03-08T05:55:56.437154Z",
     "iopub.status.idle": "2023-03-08T05:55:56.656911Z",
     "shell.execute_reply": "2023-03-08T05:55:56.655680Z"
    },
    "papermill": {
     "duration": 0.237843,
     "end_time": "2023-03-08T05:55:56.659951",
     "exception": false,
     "start_time": "2023-03-08T05:55:56.422108",
     "status": "completed"
    },
    "tags": []
   },
   "outputs": [],
   "source": [
    "from datetime import datetime\n",
    "\n",
    "# 날짜 피처 생성\n",
    "all_data['date'] = all_data['datetime'].apply(lambda x: x.split()[0])\n",
    "\n",
    "# 연도 피처 생성\n",
    "all_data['year'] = all_data['datetime'].apply(lambda x: x.split()[0].split('-')[0])\n",
    "\n",
    "# 월 피처 생성\n",
    "all_data['month'] = all_data['datetime'].apply(lambda x: x.split()[0].split('-')[1])\n",
    "\n",
    "# 시 피처 생성\n",
    "all_data['hour'] = all_data['datetime'].apply(lambda x: x.split()[1].split(':')[0])\n",
    "\n",
    "# 요일 피처 생성\n",
    "all_data[\"weekday\"] = all_data['date'].apply(lambda dateString : \n",
    "                                             datetime.strptime(dateString,\"%Y-%m-%d\").weekday())"
   ]
  },
  {
   "cell_type": "code",
   "execution_count": 7,
   "id": "a73c5d2f",
   "metadata": {
    "execution": {
     "iopub.execute_input": "2023-03-08T05:55:56.689057Z",
     "iopub.status.busy": "2023-03-08T05:55:56.688639Z",
     "iopub.status.idle": "2023-03-08T05:55:56.713077Z",
     "shell.execute_reply": "2023-03-08T05:55:56.712153Z"
    },
    "papermill": {
     "duration": 0.042075,
     "end_time": "2023-03-08T05:55:56.715464",
     "exception": false,
     "start_time": "2023-03-08T05:55:56.673389",
     "status": "completed"
    },
    "tags": []
   },
   "outputs": [
    {
     "data": {
      "text/html": [
       "<div>\n",
       "<style scoped>\n",
       "    .dataframe tbody tr th:only-of-type {\n",
       "        vertical-align: middle;\n",
       "    }\n",
       "\n",
       "    .dataframe tbody tr th {\n",
       "        vertical-align: top;\n",
       "    }\n",
       "\n",
       "    .dataframe thead th {\n",
       "        text-align: right;\n",
       "    }\n",
       "</style>\n",
       "<table border=\"1\" class=\"dataframe\">\n",
       "  <thead>\n",
       "    <tr style=\"text-align: right;\">\n",
       "      <th></th>\n",
       "      <th>datetime</th>\n",
       "      <th>season</th>\n",
       "      <th>holiday</th>\n",
       "      <th>workingday</th>\n",
       "      <th>weather</th>\n",
       "      <th>temp</th>\n",
       "      <th>atemp</th>\n",
       "      <th>humidity</th>\n",
       "      <th>windspeed</th>\n",
       "      <th>casual</th>\n",
       "      <th>registered</th>\n",
       "      <th>count</th>\n",
       "      <th>date</th>\n",
       "      <th>year</th>\n",
       "      <th>month</th>\n",
       "      <th>hour</th>\n",
       "      <th>weekday</th>\n",
       "    </tr>\n",
       "  </thead>\n",
       "  <tbody>\n",
       "    <tr>\n",
       "      <th>0</th>\n",
       "      <td>2011-01-01 00:00:00</td>\n",
       "      <td>1</td>\n",
       "      <td>0</td>\n",
       "      <td>0</td>\n",
       "      <td>1</td>\n",
       "      <td>9.84</td>\n",
       "      <td>14.395</td>\n",
       "      <td>81</td>\n",
       "      <td>0.0</td>\n",
       "      <td>3.0</td>\n",
       "      <td>13.0</td>\n",
       "      <td>16.0</td>\n",
       "      <td>2011-01-01</td>\n",
       "      <td>2011</td>\n",
       "      <td>01</td>\n",
       "      <td>00</td>\n",
       "      <td>5</td>\n",
       "    </tr>\n",
       "    <tr>\n",
       "      <th>1</th>\n",
       "      <td>2011-01-01 01:00:00</td>\n",
       "      <td>1</td>\n",
       "      <td>0</td>\n",
       "      <td>0</td>\n",
       "      <td>1</td>\n",
       "      <td>9.02</td>\n",
       "      <td>13.635</td>\n",
       "      <td>80</td>\n",
       "      <td>0.0</td>\n",
       "      <td>8.0</td>\n",
       "      <td>32.0</td>\n",
       "      <td>40.0</td>\n",
       "      <td>2011-01-01</td>\n",
       "      <td>2011</td>\n",
       "      <td>01</td>\n",
       "      <td>01</td>\n",
       "      <td>5</td>\n",
       "    </tr>\n",
       "    <tr>\n",
       "      <th>2</th>\n",
       "      <td>2011-01-01 02:00:00</td>\n",
       "      <td>1</td>\n",
       "      <td>0</td>\n",
       "      <td>0</td>\n",
       "      <td>1</td>\n",
       "      <td>9.02</td>\n",
       "      <td>13.635</td>\n",
       "      <td>80</td>\n",
       "      <td>0.0</td>\n",
       "      <td>5.0</td>\n",
       "      <td>27.0</td>\n",
       "      <td>32.0</td>\n",
       "      <td>2011-01-01</td>\n",
       "      <td>2011</td>\n",
       "      <td>01</td>\n",
       "      <td>02</td>\n",
       "      <td>5</td>\n",
       "    </tr>\n",
       "    <tr>\n",
       "      <th>3</th>\n",
       "      <td>2011-01-01 03:00:00</td>\n",
       "      <td>1</td>\n",
       "      <td>0</td>\n",
       "      <td>0</td>\n",
       "      <td>1</td>\n",
       "      <td>9.84</td>\n",
       "      <td>14.395</td>\n",
       "      <td>75</td>\n",
       "      <td>0.0</td>\n",
       "      <td>3.0</td>\n",
       "      <td>10.0</td>\n",
       "      <td>13.0</td>\n",
       "      <td>2011-01-01</td>\n",
       "      <td>2011</td>\n",
       "      <td>01</td>\n",
       "      <td>03</td>\n",
       "      <td>5</td>\n",
       "    </tr>\n",
       "    <tr>\n",
       "      <th>4</th>\n",
       "      <td>2011-01-01 04:00:00</td>\n",
       "      <td>1</td>\n",
       "      <td>0</td>\n",
       "      <td>0</td>\n",
       "      <td>1</td>\n",
       "      <td>9.84</td>\n",
       "      <td>14.395</td>\n",
       "      <td>75</td>\n",
       "      <td>0.0</td>\n",
       "      <td>0.0</td>\n",
       "      <td>1.0</td>\n",
       "      <td>1.0</td>\n",
       "      <td>2011-01-01</td>\n",
       "      <td>2011</td>\n",
       "      <td>01</td>\n",
       "      <td>04</td>\n",
       "      <td>5</td>\n",
       "    </tr>\n",
       "  </tbody>\n",
       "</table>\n",
       "</div>"
      ],
      "text/plain": [
       "              datetime  season  holiday  workingday  weather  temp   atemp  \\\n",
       "0  2011-01-01 00:00:00       1        0           0        1  9.84  14.395   \n",
       "1  2011-01-01 01:00:00       1        0           0        1  9.02  13.635   \n",
       "2  2011-01-01 02:00:00       1        0           0        1  9.02  13.635   \n",
       "3  2011-01-01 03:00:00       1        0           0        1  9.84  14.395   \n",
       "4  2011-01-01 04:00:00       1        0           0        1  9.84  14.395   \n",
       "\n",
       "   humidity  windspeed  casual  registered  count        date  year month  \\\n",
       "0        81        0.0     3.0        13.0   16.0  2011-01-01  2011    01   \n",
       "1        80        0.0     8.0        32.0   40.0  2011-01-01  2011    01   \n",
       "2        80        0.0     5.0        27.0   32.0  2011-01-01  2011    01   \n",
       "3        75        0.0     3.0        10.0   13.0  2011-01-01  2011    01   \n",
       "4        75        0.0     0.0         1.0    1.0  2011-01-01  2011    01   \n",
       "\n",
       "  hour  weekday  \n",
       "0   00        5  \n",
       "1   01        5  \n",
       "2   02        5  \n",
       "3   03        5  \n",
       "4   04        5  "
      ]
     },
     "execution_count": 7,
     "metadata": {},
     "output_type": "execute_result"
    }
   ],
   "source": [
    "all_data.head()"
   ]
  },
  {
   "cell_type": "markdown",
   "id": "eb9ddfeb",
   "metadata": {
    "papermill": {
     "duration": 0.013609,
     "end_time": "2023-03-08T05:55:56.742879",
     "exception": false,
     "start_time": "2023-03-08T05:55:56.729270",
     "status": "completed"
    },
    "tags": []
   },
   "source": [
    "- `day`, `minute`, `second` 피처는 예측에 필요가 없다.\n",
    "\n",
    "\n",
    "\n",
    "### 2-1-2_4. 필요 없는 피처 제거\n",
    "\n",
    "- `casual`, `registered`, `datetime`, `date`, `windspeed`, `month` 피처를 제거"
   ]
  },
  {
   "cell_type": "code",
   "execution_count": 8,
   "id": "278691c1",
   "metadata": {
    "execution": {
     "iopub.execute_input": "2023-03-08T05:55:56.772477Z",
     "iopub.status.busy": "2023-03-08T05:55:56.771699Z",
     "iopub.status.idle": "2023-03-08T05:55:56.784635Z",
     "shell.execute_reply": "2023-03-08T05:55:56.783403Z"
    },
    "papermill": {
     "duration": 0.030992,
     "end_time": "2023-03-08T05:55:56.787549",
     "exception": false,
     "start_time": "2023-03-08T05:55:56.756557",
     "status": "completed"
    },
    "tags": []
   },
   "outputs": [],
   "source": [
    "drop_features = ['casual', 'registered', 'datetime', 'date', 'month', 'windspeed']\n",
    "\n",
    "all_data = all_data.drop(drop_features, axis=1)"
   ]
  },
  {
   "cell_type": "markdown",
   "id": "227ccb92",
   "metadata": {
    "papermill": {
     "duration": 0.013983,
     "end_time": "2023-03-08T05:55:56.815113",
     "exception": false,
     "start_time": "2023-03-08T05:55:56.801130",
     "status": "completed"
    },
    "tags": []
   },
   "source": [
    "> - **피처 선택(Feature Selection)**: 모델링 시 데이터의 특징을 잘 나타내는 주요 피처만 선택하는 작업\n",
    "> - 탐색적 데이터분석, 피처 중요도(feature importance), 상관관계 매트릭스 등을 활용해 종합적으로 판단"
   ]
  },
  {
   "cell_type": "markdown",
   "id": "a683ac27",
   "metadata": {
    "papermill": {
     "duration": 0.013488,
     "end_time": "2023-03-08T05:55:56.842257",
     "exception": false,
     "start_time": "2023-03-08T05:55:56.828769",
     "status": "completed"
    },
    "tags": []
   },
   "source": [
    "\n",
    "\n",
    "### 2-1-2_5. 데이터 나누기\n",
    "\n",
    "- 훈련 데이터와 테스트 데이터를 다시 나누자\n"
   ]
  },
  {
   "cell_type": "code",
   "execution_count": 9,
   "id": "f3930e1d",
   "metadata": {
    "execution": {
     "iopub.execute_input": "2023-03-08T05:55:56.871977Z",
     "iopub.status.busy": "2023-03-08T05:55:56.870794Z",
     "iopub.status.idle": "2023-03-08T05:55:56.884889Z",
     "shell.execute_reply": "2023-03-08T05:55:56.883960Z"
    },
    "papermill": {
     "duration": 0.031657,
     "end_time": "2023-03-08T05:55:56.887485",
     "exception": false,
     "start_time": "2023-03-08T05:55:56.855828",
     "status": "completed"
    },
    "tags": []
   },
   "outputs": [],
   "source": [
    "# 훈련 데이터와 테스트 데이터 나누기\n",
    "X_train = all_data[ ~ pd.isnull(all_data['count'])] # '~': 부정을 뜻함\n",
    "X_test = all_data[pd.isnull(all_data['count'])]\n",
    "\n",
    "# 타깃값 count 제거\n",
    "X_train = X_train.drop(['count'], axis=1)\n",
    "X_test = X_test.drop(['count'], axis=1)\n",
    "\n",
    "y = train['count'] # 타깃값"
   ]
  },
  {
   "cell_type": "code",
   "execution_count": 10,
   "id": "72ea4a33",
   "metadata": {
    "execution": {
     "iopub.execute_input": "2023-03-08T05:55:56.916917Z",
     "iopub.status.busy": "2023-03-08T05:55:56.916095Z",
     "iopub.status.idle": "2023-03-08T05:55:56.930857Z",
     "shell.execute_reply": "2023-03-08T05:55:56.929960Z"
    },
    "papermill": {
     "duration": 0.031953,
     "end_time": "2023-03-08T05:55:56.933011",
     "exception": false,
     "start_time": "2023-03-08T05:55:56.901058",
     "status": "completed"
    },
    "tags": []
   },
   "outputs": [
    {
     "data": {
      "text/html": [
       "<div>\n",
       "<style scoped>\n",
       "    .dataframe tbody tr th:only-of-type {\n",
       "        vertical-align: middle;\n",
       "    }\n",
       "\n",
       "    .dataframe tbody tr th {\n",
       "        vertical-align: top;\n",
       "    }\n",
       "\n",
       "    .dataframe thead th {\n",
       "        text-align: right;\n",
       "    }\n",
       "</style>\n",
       "<table border=\"1\" class=\"dataframe\">\n",
       "  <thead>\n",
       "    <tr style=\"text-align: right;\">\n",
       "      <th></th>\n",
       "      <th>season</th>\n",
       "      <th>holiday</th>\n",
       "      <th>workingday</th>\n",
       "      <th>weather</th>\n",
       "      <th>temp</th>\n",
       "      <th>atemp</th>\n",
       "      <th>humidity</th>\n",
       "      <th>year</th>\n",
       "      <th>hour</th>\n",
       "      <th>weekday</th>\n",
       "    </tr>\n",
       "  </thead>\n",
       "  <tbody>\n",
       "    <tr>\n",
       "      <th>0</th>\n",
       "      <td>1</td>\n",
       "      <td>0</td>\n",
       "      <td>0</td>\n",
       "      <td>1</td>\n",
       "      <td>9.84</td>\n",
       "      <td>14.395</td>\n",
       "      <td>81</td>\n",
       "      <td>2011</td>\n",
       "      <td>00</td>\n",
       "      <td>5</td>\n",
       "    </tr>\n",
       "    <tr>\n",
       "      <th>1</th>\n",
       "      <td>1</td>\n",
       "      <td>0</td>\n",
       "      <td>0</td>\n",
       "      <td>1</td>\n",
       "      <td>9.02</td>\n",
       "      <td>13.635</td>\n",
       "      <td>80</td>\n",
       "      <td>2011</td>\n",
       "      <td>01</td>\n",
       "      <td>5</td>\n",
       "    </tr>\n",
       "    <tr>\n",
       "      <th>2</th>\n",
       "      <td>1</td>\n",
       "      <td>0</td>\n",
       "      <td>0</td>\n",
       "      <td>1</td>\n",
       "      <td>9.02</td>\n",
       "      <td>13.635</td>\n",
       "      <td>80</td>\n",
       "      <td>2011</td>\n",
       "      <td>02</td>\n",
       "      <td>5</td>\n",
       "    </tr>\n",
       "    <tr>\n",
       "      <th>3</th>\n",
       "      <td>1</td>\n",
       "      <td>0</td>\n",
       "      <td>0</td>\n",
       "      <td>1</td>\n",
       "      <td>9.84</td>\n",
       "      <td>14.395</td>\n",
       "      <td>75</td>\n",
       "      <td>2011</td>\n",
       "      <td>03</td>\n",
       "      <td>5</td>\n",
       "    </tr>\n",
       "    <tr>\n",
       "      <th>4</th>\n",
       "      <td>1</td>\n",
       "      <td>0</td>\n",
       "      <td>0</td>\n",
       "      <td>1</td>\n",
       "      <td>9.84</td>\n",
       "      <td>14.395</td>\n",
       "      <td>75</td>\n",
       "      <td>2011</td>\n",
       "      <td>04</td>\n",
       "      <td>5</td>\n",
       "    </tr>\n",
       "  </tbody>\n",
       "</table>\n",
       "</div>"
      ],
      "text/plain": [
       "   season  holiday  workingday  weather  temp   atemp  humidity  year hour  \\\n",
       "0       1        0           0        1  9.84  14.395        81  2011   00   \n",
       "1       1        0           0        1  9.02  13.635        80  2011   01   \n",
       "2       1        0           0        1  9.02  13.635        80  2011   02   \n",
       "3       1        0           0        1  9.84  14.395        75  2011   03   \n",
       "4       1        0           0        1  9.84  14.395        75  2011   04   \n",
       "\n",
       "   weekday  \n",
       "0        5  \n",
       "1        5  \n",
       "2        5  \n",
       "3        5  \n",
       "4        5  "
      ]
     },
     "execution_count": 10,
     "metadata": {},
     "output_type": "execute_result"
    }
   ],
   "source": [
    "# 피처 엔지니어링을 모두 마친 후 훈련 데이터 구성 살펴보기\n",
    "X_train.head()"
   ]
  },
  {
   "cell_type": "markdown",
   "id": "b0c0069c",
   "metadata": {
    "papermill": {
     "duration": 0.013434,
     "end_time": "2023-03-08T05:55:56.960457",
     "exception": false,
     "start_time": "2023-03-08T05:55:56.947023",
     "status": "completed"
    },
    "tags": []
   },
   "source": [
    "## 2-1-2. 평가지표 계산 함수 작성\n",
    "\n",
    "- 본격적인 훈련에 앞서 본 경진대회 평가지표인 RMSLE를 계산하자\n",
    "\n",
    "$$\\sqrt{\\dfrac{1}{N} \\sum^N_{i=1} ( \\log(y_i+1) - \\log(\\hat{y_i} + 1 )^2 }$$"
   ]
  },
  {
   "cell_type": "code",
   "execution_count": 11,
   "id": "9d7a8b3a",
   "metadata": {
    "execution": {
     "iopub.execute_input": "2023-03-08T05:55:56.990055Z",
     "iopub.status.busy": "2023-03-08T05:55:56.989230Z",
     "iopub.status.idle": "2023-03-08T05:55:56.996367Z",
     "shell.execute_reply": "2023-03-08T05:55:56.995272Z"
    },
    "papermill": {
     "duration": 0.024531,
     "end_time": "2023-03-08T05:55:56.998673",
     "exception": false,
     "start_time": "2023-03-08T05:55:56.974142",
     "status": "completed"
    },
    "tags": []
   },
   "outputs": [],
   "source": [
    "import numpy as np\n",
    "\n",
    "def rmsle(y_true, y_pred, convertExp=True):\n",
    "    # 지수변환\n",
    "    if convertExp:\n",
    "        y_true = np.exp(y_true)\n",
    "        y_pred = np.exp(y_pred)\n",
    "        \n",
    "    # 로그변환 후 결측값을 0으로 변환\n",
    "    log_true = np.nan_to_num(np.log(y_true+1))\n",
    "    log_pred = np.nan_to_num(np.log(y_pred+1))\n",
    "    \n",
    "    # RMSLE 계산\n",
    "    output = np.sqrt(np.mean((log_true - log_pred)**2))\n",
    "    return output"
   ]
  },
  {
   "cell_type": "markdown",
   "id": "80341fa5",
   "metadata": {
    "papermill": {
     "duration": 0.013585,
     "end_time": "2023-03-08T05:55:57.026000",
     "exception": false,
     "start_time": "2023-03-08T05:55:57.012415",
     "status": "completed"
    },
    "tags": []
   },
   "source": [
    "- 실제 타깃값 `y_true`와 `y_pred`를 인수로 전달하면 RMSLE 수치를 반환하는 함수\n",
    "- `convertExp`는 입력 데이터를 지수변환할지 정하는 파라미터\n",
    "- `np.nan_to_num()`함수는 `NaN` 결측값을 모두 0으로 바꾸어준다\n",
    "\n",
    "\n",
    "## 2-1-3. 모델 훈련\n",
    "\n",
    "- 사이킷런이 제공하는 가장 간단한 선형 회귀 모델인 `LinearRegression`을 임포트해서 모델을 생성하자"
   ]
  },
  {
   "cell_type": "code",
   "execution_count": 12,
   "id": "789af3f8",
   "metadata": {
    "execution": {
     "iopub.execute_input": "2023-03-08T05:55:57.055644Z",
     "iopub.status.busy": "2023-03-08T05:55:57.055226Z",
     "iopub.status.idle": "2023-03-08T05:55:58.263753Z",
     "shell.execute_reply": "2023-03-08T05:55:58.262499Z"
    },
    "papermill": {
     "duration": 1.226554,
     "end_time": "2023-03-08T05:55:58.266571",
     "exception": false,
     "start_time": "2023-03-08T05:55:57.040017",
     "status": "completed"
    },
    "tags": []
   },
   "outputs": [],
   "source": [
    "from sklearn.linear_model import LinearRegression\n",
    "\n",
    "linear_reg_model = LinearRegression()"
   ]
  },
  {
   "cell_type": "code",
   "execution_count": 13,
   "id": "cb0c790a",
   "metadata": {
    "execution": {
     "iopub.execute_input": "2023-03-08T05:55:58.295894Z",
     "iopub.status.busy": "2023-03-08T05:55:58.295467Z",
     "iopub.status.idle": "2023-03-08T05:55:58.349473Z",
     "shell.execute_reply": "2023-03-08T05:55:58.347855Z"
    },
    "papermill": {
     "duration": 0.074387,
     "end_time": "2023-03-08T05:55:58.354750",
     "exception": false,
     "start_time": "2023-03-08T05:55:58.280363",
     "status": "completed"
    },
    "tags": []
   },
   "outputs": [
    {
     "data": {
      "text/plain": [
       "LinearRegression()"
      ]
     },
     "execution_count": 13,
     "metadata": {},
     "output_type": "execute_result"
    }
   ],
   "source": [
    "# 이어서 훈련 데이터로 모델을 훈련시키자\n",
    "log_y = np.log(y) #타깃값 로그 변환\n",
    "linear_reg_model.fit(X_train, log_y)"
   ]
  },
  {
   "cell_type": "markdown",
   "id": "82545a37",
   "metadata": {
    "papermill": {
     "duration": 0.036571,
     "end_time": "2023-03-08T05:55:58.427652",
     "exception": false,
     "start_time": "2023-03-08T05:55:58.391081",
     "status": "completed"
    },
    "tags": []
   },
   "source": [
    "## 2-1-4. 모델 성능 검정\n"
   ]
  },
  {
   "cell_type": "code",
   "execution_count": 14,
   "id": "861581d6",
   "metadata": {
    "execution": {
     "iopub.execute_input": "2023-03-08T05:55:58.472166Z",
     "iopub.status.busy": "2023-03-08T05:55:58.471768Z",
     "iopub.status.idle": "2023-03-08T05:55:58.490371Z",
     "shell.execute_reply": "2023-03-08T05:55:58.488259Z"
    },
    "papermill": {
     "duration": 0.038943,
     "end_time": "2023-03-08T05:55:58.495143",
     "exception": false,
     "start_time": "2023-03-08T05:55:58.456200",
     "status": "completed"
    },
    "tags": []
   },
   "outputs": [],
   "source": [
    "preds = linear_reg_model.predict(X_train)"
   ]
  },
  {
   "cell_type": "code",
   "execution_count": 15,
   "id": "e5848e18",
   "metadata": {
    "execution": {
     "iopub.execute_input": "2023-03-08T05:55:58.574121Z",
     "iopub.status.busy": "2023-03-08T05:55:58.573411Z",
     "iopub.status.idle": "2023-03-08T05:55:58.583796Z",
     "shell.execute_reply": "2023-03-08T05:55:58.582561Z"
    },
    "papermill": {
     "duration": 0.053863,
     "end_time": "2023-03-08T05:55:58.588208",
     "exception": false,
     "start_time": "2023-03-08T05:55:58.534345",
     "status": "completed"
    },
    "tags": []
   },
   "outputs": [
    {
     "data": {
      "text/plain": [
       "array([2.19541075, 2.27905813, 2.38251905, ..., 5.6734502 , 5.82792117,\n",
       "       5.82067058])"
      ]
     },
     "execution_count": 15,
     "metadata": {},
     "output_type": "execute_result"
    }
   ],
   "source": [
    "preds"
   ]
  },
  {
   "cell_type": "code",
   "execution_count": 16,
   "id": "e0fea5a3",
   "metadata": {
    "execution": {
     "iopub.execute_input": "2023-03-08T05:55:58.631637Z",
     "iopub.status.busy": "2023-03-08T05:55:58.630843Z",
     "iopub.status.idle": "2023-03-08T05:55:58.639895Z",
     "shell.execute_reply": "2023-03-08T05:55:58.638447Z"
    },
    "papermill": {
     "duration": 0.027801,
     "end_time": "2023-03-08T05:55:58.642627",
     "exception": false,
     "start_time": "2023-03-08T05:55:58.614826",
     "status": "completed"
    },
    "tags": []
   },
   "outputs": [
    {
     "name": "stdout",
     "output_type": "stream",
     "text": [
      "선형회귀의 RMSLE 값 : 1.020\n"
     ]
    }
   ],
   "source": [
    "print (f'선형회귀의 RMSLE 값 : {rmsle(log_y, preds, True):.3f}')"
   ]
  },
  {
   "cell_type": "markdown",
   "id": "d6ed3943",
   "metadata": {
    "papermill": {
     "duration": 0.014031,
     "end_time": "2023-03-08T05:55:58.671499",
     "exception": false,
     "start_time": "2023-03-08T05:55:58.657468",
     "status": "completed"
    },
    "tags": []
   },
   "source": [
    "## 2-1-5. 예측 및 결과 제출\n"
   ]
  },
  {
   "cell_type": "code",
   "execution_count": 17,
   "id": "b5c40104",
   "metadata": {
    "execution": {
     "iopub.execute_input": "2023-03-08T05:55:58.701944Z",
     "iopub.status.busy": "2023-03-08T05:55:58.701100Z",
     "iopub.status.idle": "2023-03-08T05:55:58.769121Z",
     "shell.execute_reply": "2023-03-08T05:55:58.767269Z"
    },
    "papermill": {
     "duration": 0.088447,
     "end_time": "2023-03-08T05:55:58.773985",
     "exception": false,
     "start_time": "2023-03-08T05:55:58.685538",
     "status": "completed"
    },
    "tags": []
   },
   "outputs": [],
   "source": [
    "linearreg_preds = linear_reg_model.predict(X_test) # 테스트 데이터로 예측\n",
    "submission['count'] = np.exp(linearreg_preds) #지수 변환\n",
    "submission.to_csv('submission.csv', index = False)"
   ]
  },
  {
   "cell_type": "markdown",
   "id": "be43e0ca",
   "metadata": {
    "papermill": {
     "duration": 0.028864,
     "end_time": "2023-03-08T05:55:58.839026",
     "exception": false,
     "start_time": "2023-03-08T05:55:58.810162",
     "status": "completed"
    },
    "tags": []
   },
   "source": [
    "---\n",
    "---\n",
    "---\n",
    "\n",
    "\n",
    "# **3. 성능 개선**\n",
    "# 3-1. 성능 개선 1: <U> 릿지 회귀 모델</U>\n",
    "\n",
    "- 사이킷런이 제공하는 모델 중 세 가지\n",
    "    - 릿지 (Ridge)\n",
    "    - 라쏘 (Lasso)\n",
    "    - 랜덤 포레스트 (Random Forest 회귀)\n",
    "    \n",
    "    를 다뤄보며 가장 우수한 모델을 확인해보자\n",
    "    \n",
    "    \n",
    "## 3-1-1. 하이퍼파라미터 최적화 (모델훈련)\n",
    "\n",
    "- 이번에는 '모델 훈련' 단계에서 그리드 서치 기법을 사용할 것이다.\n",
    "- **그리드서치(Grid Search)**: 하이퍼파라미터를 격자 처럼 촘촘하게 순회하며 최적의 하이퍼파라미터 값을 찾는 기법\n",
    "- 각 하이퍼파라미터를 적용한 모델마다 교차 검증(CV)을 하며 성능을 측정하여 최종적으로 성능이 가장 좋았을 때의 하이퍼파라미터 값을 찾는다.\n",
    "    - 그리드서치는 테스트 하려는 하이퍼파라미터와 값의 범위만 전달하면 알아서 모든 가능한 조합을 순회하며 교차 검증한다.\n",
    "    \n",
    "### 3-1-1_1. 모델 생성\n"
   ]
  },
  {
   "cell_type": "code",
   "execution_count": 18,
   "id": "7e05137d",
   "metadata": {
    "execution": {
     "iopub.execute_input": "2023-03-08T05:55:58.869132Z",
     "iopub.status.busy": "2023-03-08T05:55:58.868695Z",
     "iopub.status.idle": "2023-03-08T05:55:58.874382Z",
     "shell.execute_reply": "2023-03-08T05:55:58.873151Z"
    },
    "papermill": {
     "duration": 0.024017,
     "end_time": "2023-03-08T05:55:58.877233",
     "exception": false,
     "start_time": "2023-03-08T05:55:58.853216",
     "status": "completed"
    },
    "tags": []
   },
   "outputs": [],
   "source": [
    "# 가장 먼저 릿지 모델을 생성합니다.\n",
    "from sklearn.linear_model import Ridge\n",
    "from sklearn.model_selection import GridSearchCV\n",
    "from sklearn import metrics\n",
    "\n",
    "ridge_model = Ridge()"
   ]
  },
  {
   "cell_type": "markdown",
   "id": "c7533463",
   "metadata": {
    "papermill": {
     "duration": 0.013822,
     "end_time": "2023-03-08T05:55:58.908247",
     "exception": false,
     "start_time": "2023-03-08T05:55:58.894425",
     "status": "completed"
    },
    "tags": []
   },
   "source": [
    "### 3-1-1_2. 그리드서치 객체 생성\n",
    "- 이어서 그리드서치 객체를 생성\n",
    "- Note that: 그리드서치는 '하이퍼파라미터의 값'을 바꿔가며 '모델'의 성능을 교차 검증으로 '평가'해 최적의 하이퍼파라미터 값을 찾아준다고 했다.\n",
    "- 즉, 그리드 서치 객체가 다음의 세 가지를 알고 있어야 한다는 뜻이다.\n",
    "    1. 비교 검증해볼 하이퍼파라미터 값 목록\n",
    "    2. 대상 모델\n",
    "    3. 교차 검증용 평가 수단 (평가 함수)\n",
    "    \n",
    "    \n",
    "- 하이퍼파라미터 값 목록과 평가 함수만 더 준비하면 된다.\n",
    "- 릿지 모델에서 중요한 하이퍼파라미터는 `alpha`: 값이 클수록 규제 강도가 세진다\n"
   ]
  },
  {
   "cell_type": "code",
   "execution_count": 19,
   "id": "614f580f",
   "metadata": {
    "execution": {
     "iopub.execute_input": "2023-03-08T05:55:58.938836Z",
     "iopub.status.busy": "2023-03-08T05:55:58.938105Z",
     "iopub.status.idle": "2023-03-08T05:55:58.942984Z",
     "shell.execute_reply": "2023-03-08T05:55:58.942167Z"
    },
    "papermill": {
     "duration": 0.022895,
     "end_time": "2023-03-08T05:55:58.945278",
     "exception": false,
     "start_time": "2023-03-08T05:55:58.922383",
     "status": "completed"
    },
    "tags": []
   },
   "outputs": [],
   "source": [
    "# 하이퍼파라미터 값 목록\n",
    "ridge_params = {'max_iter':[3000],\n",
    "               'alpha':[0.1, 1, 2, 3, 4, 10, 30, 100, 200, 300, 400, 800, 900, 1000]}"
   ]
  },
  {
   "cell_type": "code",
   "execution_count": 20,
   "id": "dabb2090",
   "metadata": {
    "execution": {
     "iopub.execute_input": "2023-03-08T05:55:58.975796Z",
     "iopub.status.busy": "2023-03-08T05:55:58.975072Z",
     "iopub.status.idle": "2023-03-08T05:55:58.979419Z",
     "shell.execute_reply": "2023-03-08T05:55:58.978597Z"
    },
    "papermill": {
     "duration": 0.022379,
     "end_time": "2023-03-08T05:55:58.981746",
     "exception": false,
     "start_time": "2023-03-08T05:55:58.959367",
     "status": "completed"
    },
    "tags": []
   },
   "outputs": [],
   "source": [
    "# 교차 검증용 평가 함수 (RMSLE 점수 계산)\n",
    "rmsle_scorer = metrics.make_scorer(rmsle, greater_is_better = False)"
   ]
  },
  {
   "cell_type": "code",
   "execution_count": 21,
   "id": "5feeaaa0",
   "metadata": {
    "execution": {
     "iopub.execute_input": "2023-03-08T05:55:59.012367Z",
     "iopub.status.busy": "2023-03-08T05:55:59.011912Z",
     "iopub.status.idle": "2023-03-08T05:55:59.017543Z",
     "shell.execute_reply": "2023-03-08T05:55:59.016253Z"
    },
    "papermill": {
     "duration": 0.024,
     "end_time": "2023-03-08T05:55:59.020274",
     "exception": false,
     "start_time": "2023-03-08T05:55:58.996274",
     "status": "completed"
    },
    "tags": []
   },
   "outputs": [],
   "source": [
    "# 그리드서치 (with 릿지) 객체 생성\n",
    "gridsearch_ridge_model = GridSearchCV(estimator = ridge_model, #릿지 모델\n",
    "                                     param_grid = ridge_params, # 파라미터 값 목록\n",
    "                                     scoring = rmsle_scorer, # 평가지표\n",
    "                                     cv = 5) # 교차 검증 분할 수 "
   ]
  },
  {
   "cell_type": "markdown",
   "id": "929ffd64",
   "metadata": {
    "papermill": {
     "duration": 0.013656,
     "end_time": "2023-03-08T05:55:59.048155",
     "exception": false,
     "start_time": "2023-03-08T05:55:59.034499",
     "status": "completed"
    },
    "tags": []
   },
   "source": [
    "- **그리드서치 객체를 생성하는 `GridSearchCV()` 함수의 주요 파라미터**\n",
    "    - `estimator`: 분류 및 회귀 모델\n",
    "    - `param_gird`: 딕셔너리 형태로 모델의 하이퍼파라미터명과 여러 하이퍼파라미터 값을 지정\n",
    "    - `scoring`: 평가지표. 사이킷런에서 기본적인 평가지표를 문자열 형태로 제공함.\n",
    "        - 예) 정확도: 'accuracy' / F1 점수: 'f1' / ROC_AUC: 'roc_auc' / 재현율: 'recall'\n",
    "        - 사이킷런에서 제공하는 평가지표를 사용하지 않고 별도로 만든 평가지표를 사용해도 됨.\n",
    "        - `metric.make_scorer`를 활용해 별도로 만든 평가지표를 사용할 수 있다.\n",
    "    - `cv`: 교차 검증 분할 개수 (default = 5)\n",
    "\n",
    "\n",
    "- 데이터가 많고 복잡한 모델을 사용하면 `GridSearchCV`의 수행 시간은 상당히 길어짐"
   ]
  },
  {
   "cell_type": "markdown",
   "id": "5ee1641c",
   "metadata": {
    "papermill": {
     "duration": 0.014293,
     "end_time": "2023-03-08T05:55:59.076599",
     "exception": false,
     "start_time": "2023-03-08T05:55:59.062306",
     "status": "completed"
    },
    "tags": []
   },
   "source": [
    "### 3-1-1_3. 그리드서치 수행"
   ]
  },
  {
   "cell_type": "code",
   "execution_count": 22,
   "id": "a8f6eb11",
   "metadata": {
    "execution": {
     "iopub.execute_input": "2023-03-08T05:55:59.106863Z",
     "iopub.status.busy": "2023-03-08T05:55:59.106419Z",
     "iopub.status.idle": "2023-03-08T05:56:01.952534Z",
     "shell.execute_reply": "2023-03-08T05:56:01.951250Z"
    },
    "papermill": {
     "duration": 2.865959,
     "end_time": "2023-03-08T05:56:01.956792",
     "exception": false,
     "start_time": "2023-03-08T05:55:59.090833",
     "status": "completed"
    },
    "tags": []
   },
   "outputs": [
    {
     "data": {
      "text/plain": [
       "GridSearchCV(cv=5, estimator=Ridge(),\n",
       "             param_grid={'alpha': [0.1, 1, 2, 3, 4, 10, 30, 100, 200, 300, 400,\n",
       "                                   800, 900, 1000],\n",
       "                         'max_iter': [3000]},\n",
       "             scoring=make_scorer(rmsle, greater_is_better=False))"
      ]
     },
     "execution_count": 22,
     "metadata": {},
     "output_type": "execute_result"
    }
   ],
   "source": [
    "# 다음은 방금 만든 그리드서치 개게를 이용하여 그리드 서치를 수행\n",
    "log_y = np.log(y) # 타깃값 로그변환\n",
    "gridsearch_ridge_model.fit(X_train, log_y) #훈련 (그리드 서치)"
   ]
  },
  {
   "cell_type": "markdown",
   "id": "5539622f",
   "metadata": {
    "papermill": {
     "duration": 0.036111,
     "end_time": "2023-03-08T05:56:02.029445",
     "exception": false,
     "start_time": "2023-03-08T05:56:01.993334",
     "status": "completed"
    },
    "tags": []
   },
   "source": [
    "- `fit()` 메서드를 실행하면 객체 생성 시 `param_grid`에 전달된 값들을 순회하면서 교차 검증으로 평가지표 점수를 계산\n",
    "    - 이때 가장 좋은 성능을 보인 값을 `best_params_` 속성에 저장\n",
    "    - 최적 값으로 훈련한 모델 (최적 예측기)을 `best_estimator_` 속성에 저장합니다."
   ]
  },
  {
   "cell_type": "code",
   "execution_count": 23,
   "id": "7979cebf",
   "metadata": {
    "execution": {
     "iopub.execute_input": "2023-03-08T05:56:02.059970Z",
     "iopub.status.busy": "2023-03-08T05:56:02.059570Z",
     "iopub.status.idle": "2023-03-08T05:56:02.065242Z",
     "shell.execute_reply": "2023-03-08T05:56:02.063956Z"
    },
    "papermill": {
     "duration": 0.025284,
     "end_time": "2023-03-08T05:56:02.069137",
     "exception": false,
     "start_time": "2023-03-08T05:56:02.043853",
     "status": "completed"
    },
    "tags": []
   },
   "outputs": [
    {
     "name": "stdout",
     "output_type": "stream",
     "text": [
      "최적 하이퍼파라미터:  {'alpha': 0.1, 'max_iter': 3000}\n"
     ]
    }
   ],
   "source": [
    "# 최적 하이퍼파라미터로는 어떤 값이 선정되었는지 살펴봅시다.\n",
    "print('최적 하이퍼파라미터: ', gridsearch_ridge_model.best_params_)"
   ]
  },
  {
   "cell_type": "markdown",
   "id": "5132c720",
   "metadata": {
    "papermill": {
     "duration": 0.013861,
     "end_time": "2023-03-08T05:56:02.098291",
     "exception": false,
     "start_time": "2023-03-08T05:56:02.084430",
     "status": "completed"
    },
    "tags": []
   },
   "source": [
    "## 3-1-2. 성능 검증\n",
    "\n",
    "- 최종 예측은 그리드서치 객체의 `best_estimator_` 속성에 저장된 모델로 수행하면 됩니다."
   ]
  },
  {
   "cell_type": "code",
   "execution_count": 24,
   "id": "cea14ba0",
   "metadata": {
    "execution": {
     "iopub.execute_input": "2023-03-08T05:56:02.129362Z",
     "iopub.status.busy": "2023-03-08T05:56:02.128542Z",
     "iopub.status.idle": "2023-03-08T05:56:02.145470Z",
     "shell.execute_reply": "2023-03-08T05:56:02.143664Z"
    },
    "papermill": {
     "duration": 0.037245,
     "end_time": "2023-03-08T05:56:02.149974",
     "exception": false,
     "start_time": "2023-03-08T05:56:02.112729",
     "status": "completed"
    },
    "tags": []
   },
   "outputs": [],
   "source": [
    "# 예측\n",
    "preds = gridsearch_ridge_model.best_estimator_.predict(X_train)"
   ]
  },
  {
   "cell_type": "code",
   "execution_count": 25,
   "id": "ce5b4564",
   "metadata": {
    "execution": {
     "iopub.execute_input": "2023-03-08T05:56:02.226010Z",
     "iopub.status.busy": "2023-03-08T05:56:02.225325Z",
     "iopub.status.idle": "2023-03-08T05:56:02.236802Z",
     "shell.execute_reply": "2023-03-08T05:56:02.235326Z"
    },
    "papermill": {
     "duration": 0.05406,
     "end_time": "2023-03-08T05:56:02.240803",
     "exception": false,
     "start_time": "2023-03-08T05:56:02.186743",
     "status": "completed"
    },
    "tags": []
   },
   "outputs": [
    {
     "name": "stdout",
     "output_type": "stream",
     "text": [
      "릿지 회귀 RMSLE 값: 1.020\n"
     ]
    }
   ],
   "source": [
    "# 평가\n",
    "print(f'릿지 회귀 RMSLE 값: {rmsle(log_y, preds, True):.3f}')"
   ]
  },
  {
   "cell_type": "markdown",
   "id": "784c6a16",
   "metadata": {
    "papermill": {
     "duration": 0.013957,
     "end_time": "2023-03-08T05:56:02.283023",
     "exception": false,
     "start_time": "2023-03-08T05:56:02.269066",
     "status": "completed"
    },
    "tags": []
   },
   "source": [
    "- 😮 선형 회귀 모델의 결과와 크게 다르지 않다..\n",
    "\n",
    "# 3-2. 성능 개선 2: <U>라쏘 회귀 모델</U>\n",
    "\n",
    "## 3-2-1. 하이퍼파라미터 최적화 (모델 훈련)\n",
    "\n",
    "- 릿지 회귀와 마찬가지로 `alpha`는 규제 강도를 조정하는 파라미터"
   ]
  },
  {
   "cell_type": "code",
   "execution_count": 26,
   "id": "07bd21ab",
   "metadata": {
    "execution": {
     "iopub.execute_input": "2023-03-08T05:56:02.314360Z",
     "iopub.status.busy": "2023-03-08T05:56:02.313938Z",
     "iopub.status.idle": "2023-03-08T05:56:06.782759Z",
     "shell.execute_reply": "2023-03-08T05:56:06.780965Z"
    },
    "papermill": {
     "duration": 4.490849,
     "end_time": "2023-03-08T05:56:06.788120",
     "exception": false,
     "start_time": "2023-03-08T05:56:02.297271",
     "status": "completed"
    },
    "tags": []
   },
   "outputs": [
    {
     "name": "stdout",
     "output_type": "stream",
     "text": [
      "최적 하이퍼파라미터 : {'alpha': 0.00125, 'max_iter': 3000}\n"
     ]
    }
   ],
   "source": [
    "from sklearn.linear_model import Lasso\n",
    "\n",
    "# 모델 생성\n",
    "lasso_model = Lasso()\n",
    "# 하이퍼파라미터 값 목록\n",
    "lasso_alpha = 1/np.array([0.1, 1, 2, 3, 4, 10, 30, 100, 200, 300, 400, 800, 900, 1000])\n",
    "lasso_params = {'max_iter':[3000], 'alpha':lasso_alpha}\n",
    "# 그리드서치(with 라쏘) 객체 생성\n",
    "gridsearch_lasso_model = GridSearchCV(estimator=lasso_model,\n",
    "                                      param_grid=lasso_params,\n",
    "                                      scoring=rmsle_scorer,\n",
    "                                      cv=5)\n",
    "# 그리드서치 수행\n",
    "log_y = np.log(y)\n",
    "gridsearch_lasso_model.fit(X_train, log_y)\n",
    "\n",
    "print('최적 하이퍼파라미터 :', gridsearch_lasso_model.best_params_)"
   ]
  },
  {
   "cell_type": "markdown",
   "id": "2b867649",
   "metadata": {
    "papermill": {
     "duration": 0.036754,
     "end_time": "2023-03-08T05:56:06.862764",
     "exception": false,
     "start_time": "2023-03-08T05:56:06.826010",
     "status": "completed"
    },
    "tags": []
   },
   "source": [
    "## 3-2-2. 성능 검증"
   ]
  },
  {
   "cell_type": "code",
   "execution_count": 27,
   "id": "f4224386",
   "metadata": {
    "execution": {
     "iopub.execute_input": "2023-03-08T05:56:06.913003Z",
     "iopub.status.busy": "2023-03-08T05:56:06.912461Z",
     "iopub.status.idle": "2023-03-08T05:56:06.934932Z",
     "shell.execute_reply": "2023-03-08T05:56:06.933046Z"
    },
    "papermill": {
     "duration": 0.04243,
     "end_time": "2023-03-08T05:56:06.939262",
     "exception": false,
     "start_time": "2023-03-08T05:56:06.896832",
     "status": "completed"
    },
    "tags": []
   },
   "outputs": [
    {
     "name": "stdout",
     "output_type": "stream",
     "text": [
      "라쏘 회귀 RMSLE 값 : 1.020\n"
     ]
    }
   ],
   "source": [
    "# 예측\n",
    "preds = gridsearch_lasso_model.best_estimator_.predict(X_train)\n",
    "\n",
    "# 평가\n",
    "print(f'라쏘 회귀 RMSLE 값 : {rmsle(log_y, preds, True):.3f}')"
   ]
  },
  {
   "cell_type": "markdown",
   "id": "2816954b",
   "metadata": {
    "papermill": {
     "duration": 0.037747,
     "end_time": "2023-03-08T05:56:07.014716",
     "exception": false,
     "start_time": "2023-03-08T05:56:06.976969",
     "status": "completed"
    },
    "tags": []
   },
   "source": [
    "# 3-2. 성능 개선 3: <U>랜덤 포레스트 회귀 모델</U>\n",
    "\n",
    "- 랜덤 포레스트 회귀는 간단히 생각하면 훈련 데이터를 랜덤하게 샘플링한 모델 n개를 각가 훈련하여 셜과를 평균하는 방법\n",
    "\n",
    "## 3-2-1. 하이퍼파라미터 최적화 (모델 훈련)\n",
    "\n",
    "- 랜덤 포레스트 회귀 모델로 그리드서치를 수행하고 최적 하이퍼파라미터 값까지 출력해보자"
   ]
  },
  {
   "cell_type": "code",
   "execution_count": 28,
   "id": "2277c508",
   "metadata": {
    "execution": {
     "iopub.execute_input": "2023-03-08T05:56:07.066758Z",
     "iopub.status.busy": "2023-03-08T05:56:07.066354Z",
     "iopub.status.idle": "2023-03-08T05:56:07.367660Z",
     "shell.execute_reply": "2023-03-08T05:56:07.366299Z"
    },
    "papermill": {
     "duration": 0.320626,
     "end_time": "2023-03-08T05:56:07.370508",
     "exception": false,
     "start_time": "2023-03-08T05:56:07.049882",
     "status": "completed"
    },
    "tags": []
   },
   "outputs": [],
   "source": [
    "from sklearn.ensemble import RandomForestRegressor"
   ]
  },
  {
   "cell_type": "code",
   "execution_count": 29,
   "id": "fd0be26c",
   "metadata": {
    "execution": {
     "iopub.execute_input": "2023-03-08T05:56:07.401304Z",
     "iopub.status.busy": "2023-03-08T05:56:07.400844Z",
     "iopub.status.idle": "2023-03-08T05:56:58.026829Z",
     "shell.execute_reply": "2023-03-08T05:56:58.025392Z"
    },
    "papermill": {
     "duration": 50.657937,
     "end_time": "2023-03-08T05:56:58.043067",
     "exception": false,
     "start_time": "2023-03-08T05:56:07.385130",
     "status": "completed"
    },
    "tags": []
   },
   "outputs": [
    {
     "name": "stdout",
     "output_type": "stream",
     "text": [
      "최적 하이퍼파라미터: {'n_estimators': 140, 'random_state': 42}\n"
     ]
    }
   ],
   "source": [
    "# 모델 생성\n",
    "randomforest_model = RandomForestRegressor()\n",
    "\n",
    "# 그리드서치 객체 생성\n",
    "rf_params = {'random_state':[42], 'n_estimators':[100, 120, 140]} # 랜덤 시드값 / 결정 트리 개수\n",
    "gridsearch_random_forest_model = GridSearchCV(estimator=randomforest_model,\n",
    "                                              param_grid=rf_params,\n",
    "                                              scoring=rmsle_scorer,\n",
    "                                              cv=5)\n",
    "\n",
    "# 그리드서치 수행\n",
    "log_y = np.log(y)\n",
    "gridsearch_random_forest_model.fit(X_train, log_y)\n",
    "print('최적 하이퍼파라미터:', gridsearch_random_forest_model.best_params_)"
   ]
  },
  {
   "cell_type": "markdown",
   "id": "01322295",
   "metadata": {
    "papermill": {
     "duration": 0.014223,
     "end_time": "2023-03-08T05:56:58.072855",
     "exception": false,
     "start_time": "2023-03-08T05:56:58.058632",
     "status": "completed"
    },
    "tags": []
   },
   "source": [
    "## 3-2-2. 모델 성능 검증"
   ]
  },
  {
   "cell_type": "code",
   "execution_count": 30,
   "id": "5802b044",
   "metadata": {
    "execution": {
     "iopub.execute_input": "2023-03-08T05:56:58.103855Z",
     "iopub.status.busy": "2023-03-08T05:56:58.103347Z",
     "iopub.status.idle": "2023-03-08T05:56:58.417921Z",
     "shell.execute_reply": "2023-03-08T05:56:58.416289Z"
    },
    "papermill": {
     "duration": 0.333335,
     "end_time": "2023-03-08T05:56:58.420696",
     "exception": false,
     "start_time": "2023-03-08T05:56:58.087361",
     "status": "completed"
    },
    "tags": []
   },
   "outputs": [
    {
     "name": "stdout",
     "output_type": "stream",
     "text": [
      "랜덤 포레스트 회귀 RMSLE 값 : 0.1127\n"
     ]
    }
   ],
   "source": [
    "# 예측\n",
    "preds = gridsearch_random_forest_model.best_estimator_.predict(X_train)\n",
    "\n",
    "# 평가\n",
    "print(f'랜덤 포레스트 회귀 RMSLE 값 : {rmsle(log_y, preds, True):.4f}')"
   ]
  },
  {
   "cell_type": "markdown",
   "id": "f954cca6",
   "metadata": {
    "papermill": {
     "duration": 0.014322,
     "end_time": "2023-03-08T05:56:58.449603",
     "exception": false,
     "start_time": "2023-03-08T05:56:58.435281",
     "status": "completed"
    },
    "tags": []
   },
   "source": [
    "- 💡랜덤 포레스트 회귀 모델을 사용하니 RMSLE 값이 큰 폭으로 개선되었다.\n",
    "\n",
    "\n",
    "\n",
    "\n",
    "\n",
    "\n",
    "## 3-2-3. 예측 및 결과 제출\n",
    "- 먼저 훈련 데이터 타깃값과 테스트 데이터 타깃 예측값의 분포를 살펴보자\n"
   ]
  },
  {
   "cell_type": "code",
   "execution_count": 31,
   "id": "0cfa1da3",
   "metadata": {
    "execution": {
     "iopub.execute_input": "2023-03-08T05:56:58.481418Z",
     "iopub.status.busy": "2023-03-08T05:56:58.480443Z",
     "iopub.status.idle": "2023-03-08T05:56:58.781553Z",
     "shell.execute_reply": "2023-03-08T05:56:58.780455Z"
    },
    "papermill": {
     "duration": 0.319548,
     "end_time": "2023-03-08T05:56:58.784141",
     "exception": false,
     "start_time": "2023-03-08T05:56:58.464593",
     "status": "completed"
    },
    "tags": []
   },
   "outputs": [],
   "source": [
    "import seaborn as sns\n",
    "import matplotlib.pyplot as plt"
   ]
  },
  {
   "cell_type": "code",
   "execution_count": 32,
   "id": "fda56563",
   "metadata": {
    "execution": {
     "iopub.execute_input": "2023-03-08T05:56:58.815346Z",
     "iopub.status.busy": "2023-03-08T05:56:58.814896Z",
     "iopub.status.idle": "2023-03-08T05:56:59.623239Z",
     "shell.execute_reply": "2023-03-08T05:56:59.621974Z"
    },
    "papermill": {
     "duration": 0.827184,
     "end_time": "2023-03-08T05:56:59.625899",
     "exception": false,
     "start_time": "2023-03-08T05:56:58.798715",
     "status": "completed"
    },
    "tags": []
   },
   "outputs": [
    {
     "data": {
      "image/png": "[encoded data removed]",
      "text/plain": [
       "<Figure size 1000x400 with 2 Axes>"
      ]
     },
     "metadata": {},
     "output_type": "display_data"
    }
   ],
   "source": [
    "randomforest_preds = gridsearch_random_forest_model.best_estimator_.predict(X_test)\n",
    "\n",
    "figure, axes = plt.subplots(ncols = 2)\n",
    "figure.set_size_inches(10, 4)\n",
    "\n",
    "sns.histplot(y, bins = 50, ax = axes[0])\n",
    "axes[0].set_title('Train Data Distribution')\n",
    "sns.histplot(np.exp(randomforest_preds), bins=50, ax=axes[1])\n",
    "axes[1].set_title('Predicted Test Data Distribution');"
   ]
  },
  {
   "cell_type": "code",
   "execution_count": 33,
   "id": "682198d6",
   "metadata": {
    "execution": {
     "iopub.execute_input": "2023-03-08T05:56:59.658808Z",
     "iopub.status.busy": "2023-03-08T05:56:59.658037Z",
     "iopub.status.idle": "2023-03-08T05:56:59.682195Z",
     "shell.execute_reply": "2023-03-08T05:56:59.681146Z"
    },
    "papermill": {
     "duration": 0.043685,
     "end_time": "2023-03-08T05:56:59.684947",
     "exception": false,
     "start_time": "2023-03-08T05:56:59.641262",
     "status": "completed"
    },
    "tags": []
   },
   "outputs": [],
   "source": [
    "submission['count'] = np.exp(randomforest_preds) # 지수변환\n",
    "submission.to_csv('submission.csv', index=False)"
   ]
  },
  {
   "cell_type": "code",
   "execution_count": null,
   "id": "52ea0e29",
   "metadata": {
    "papermill": {
     "duration": 0.014958,
     "end_time": "2023-03-08T05:56:59.715293",
     "exception": false,
     "start_time": "2023-03-08T05:56:59.700335",
     "status": "completed"
    },
    "tags": []
   },
   "outputs": [],
   "source": []
  },
  {
   "cell_type": "code",
   "execution_count": null,
   "id": "0da15a90",
   "metadata": {
    "papermill": {
     "duration": 0.014763,
     "end_time": "2023-03-08T05:56:59.745208",
     "exception": false,
     "start_time": "2023-03-08T05:56:59.730445",
     "status": "completed"
    },
    "tags": []
   },
   "outputs": [],
   "source": []
  },
  {
   "cell_type": "code",
   "execution_count": null,
   "id": "1b1fc7bd",
   "metadata": {
    "papermill": {
     "duration": 0.014859,
     "end_time": "2023-03-08T05:56:59.775213",
     "exception": false,
     "start_time": "2023-03-08T05:56:59.760354",
     "status": "completed"
    },
    "tags": []
   },
   "outputs": [],
   "source": []
  },
  {
   "cell_type": "code",
   "execution_count": null,
   "id": "ac542fee",
   "metadata": {
    "papermill": {
     "duration": 0.014696,
     "end_time": "2023-03-08T05:56:59.804973",
     "exception": false,
     "start_time": "2023-03-08T05:56:59.790277",
     "status": "completed"
    },
    "tags": []
   },
   "outputs": [],
   "source": []
  },
  {
   "cell_type": "code",
   "execution_count": null,
   "id": "4d2a2d06",
   "metadata": {
    "papermill": {
     "duration": 0.014727,
     "end_time": "2023-03-08T05:56:59.834825",
     "exception": false,
     "start_time": "2023-03-08T05:56:59.820098",
     "status": "completed"
    },
    "tags": []
   },
   "outputs": [],
   "source": []
  },
  {
   "cell_type": "code",
   "execution_count": null,
   "id": "47cfa74b",
   "metadata": {
    "papermill": {
     "duration": 0.014555,
     "end_time": "2023-03-08T05:56:59.864428",
     "exception": false,
     "start_time": "2023-03-08T05:56:59.849873",
     "status": "completed"
    },
    "tags": []
   },
   "outputs": [],
   "source": []
  },
  {
   "cell_type": "code",
   "execution_count": null,
   "id": "5fb0c8a5",
   "metadata": {
    "papermill": {
     "duration": 0.014667,
     "end_time": "2023-03-08T05:56:59.894070",
     "exception": false,
     "start_time": "2023-03-08T05:56:59.879403",
     "status": "completed"
    },
    "tags": []
   },
   "outputs": [],
   "source": []
  }
 ],
 "metadata": {
  "kernelspec": {
   "display_name": "Python 3",
   "language": "python",
   "name": "python3"
  },
  "language_info": {
   "codemirror_mode": {
    "name": "ipython",
    "version": 3
   },
   "file_extension": ".py",
   "mimetype": "text/x-python",
   "name": "python",
   "nbconvert_exporter": "python",
   "pygments_lexer": "ipython3",
   "version": "3.7.12"
  },
  "papermill": {
   "default_parameters": {},
   "duration": 75.06299,
   "end_time": "2023-03-08T05:57:00.730981",
   "environment_variables": {},
   "exception": null,
   "input_path": "__notebook__.ipynb",
   "output_path": "__notebook__.ipynb",
   "parameters": {},
   "start_time": "2023-03-08T05:55:45.667991",
   "version": "2.4.0"
  }
 },
 "nbformat": 4,
 "nbformat_minor": 5
}
