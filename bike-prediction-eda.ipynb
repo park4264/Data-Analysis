{
 "cells": [
  {
   "cell_type": "markdown",
   "id": "de81b344",
   "metadata": {
    "papermill": {
     "duration": 0.011417,
     "end_time": "2023-03-06T16:14:38.420008",
     "exception": false,
     "start_time": "2023-03-06T16:14:38.408591",
     "status": "completed"
    },
    "tags": []
   },
   "source": [
    "# Bike Sharing Demand 🚲 \n",
    "# EDA"
   ]
  },
  {
   "cell_type": "code",
   "execution_count": 1,
   "id": "3ce4baa2",
   "metadata": {
    "_cell_guid": "544006d6-ec82-4274-bf79-6539bcdd85d8",
    "_uuid": "7fdea9f0-5a85-4fc6-b978-46154068db17",
    "execution": {
     "iopub.execute_input": "2023-03-06T16:14:38.442459Z",
     "iopub.status.busy": "2023-03-06T16:14:38.441611Z",
     "iopub.status.idle": "2023-03-06T16:14:38.457069Z",
     "shell.execute_reply": "2023-03-06T16:14:38.455820Z"
    },
    "papermill": {
     "duration": 0.030865,
     "end_time": "2023-03-06T16:14:38.460884",
     "exception": false,
     "start_time": "2023-03-06T16:14:38.430019",
     "status": "completed"
    },
    "tags": []
   },
   "outputs": [
    {
     "name": "stdout",
     "output_type": "stream",
     "text": [
      "/kaggle/input/bike-sharing-demand/sampleSubmission.csv\n",
      "/kaggle/input/bike-sharing-demand/train.csv\n",
      "/kaggle/input/bike-sharing-demand/test.csv\n"
     ]
    }
   ],
   "source": [
    "import numpy as np # linear algebra\n",
    "import pandas as pd # data processing, CSV file I/O (e.g. pd.read_csv)\n",
    "\n",
    "import os\n",
    "for dirname, _, filenames in os.walk('/kaggle/input'):\n",
    "    for filename in filenames:\n",
    "        print(os.path.join(dirname, filename))"
   ]
  },
  {
   "cell_type": "markdown",
   "id": "149e28ca",
   "metadata": {
    "papermill": {
     "duration": 0.009702,
     "end_time": "2023-03-06T16:14:38.481467",
     "exception": false,
     "start_time": "2023-03-06T16:14:38.471765",
     "status": "completed"
    },
    "tags": []
   },
   "source": [
    "# 1. 데이터 불러오기"
   ]
  },
  {
   "cell_type": "code",
   "execution_count": 2,
   "id": "a7f4edaa",
   "metadata": {
    "_cell_guid": "fe5479b8-a8b3-435f-8361-344757233403",
    "_uuid": "e7b042c2-87b8-45d7-88ef-591555c7416c",
    "collapsed": false,
    "execution": {
     "iopub.execute_input": "2023-03-06T16:14:38.505320Z",
     "iopub.status.busy": "2023-03-06T16:14:38.504035Z",
     "iopub.status.idle": "2023-03-06T16:14:38.510294Z",
     "shell.execute_reply": "2023-03-06T16:14:38.509275Z"
    },
    "jupyter": {
     "outputs_hidden": false
    },
    "papermill": {
     "duration": 0.021531,
     "end_time": "2023-03-06T16:14:38.512836",
     "exception": false,
     "start_time": "2023-03-06T16:14:38.491305",
     "status": "completed"
    },
    "tags": []
   },
   "outputs": [],
   "source": [
    "data_path = '/kaggle/input/bike-sharing-demand/'"
   ]
  },
  {
   "cell_type": "code",
   "execution_count": 3,
   "id": "b5c3c5b4",
   "metadata": {
    "_cell_guid": "aefc4549-1a33-46b3-ba17-7c5a86bd0f7c",
    "_uuid": "de6fa170-3ffa-46e9-8565-029fd45f6adc",
    "collapsed": false,
    "execution": {
     "iopub.execute_input": "2023-03-06T16:14:38.535611Z",
     "iopub.status.busy": "2023-03-06T16:14:38.534794Z",
     "iopub.status.idle": "2023-03-06T16:14:38.605011Z",
     "shell.execute_reply": "2023-03-06T16:14:38.603857Z"
    },
    "jupyter": {
     "outputs_hidden": false
    },
    "papermill": {
     "duration": 0.084858,
     "end_time": "2023-03-06T16:14:38.608019",
     "exception": false,
     "start_time": "2023-03-06T16:14:38.523161",
     "status": "completed"
    },
    "tags": []
   },
   "outputs": [],
   "source": [
    "train = pd.read_csv(data_path + 'train.csv') # 훈련 데이터\n",
    "test = pd.read_csv(data_path + 'test.csv') # 테스트 데이터"
   ]
  },
  {
   "cell_type": "code",
   "execution_count": 4,
   "id": "459dad09",
   "metadata": {
    "execution": {
     "iopub.execute_input": "2023-03-06T16:14:38.630886Z",
     "iopub.status.busy": "2023-03-06T16:14:38.629898Z",
     "iopub.status.idle": "2023-03-06T16:14:38.654496Z",
     "shell.execute_reply": "2023-03-06T16:14:38.653071Z"
    },
    "papermill": {
     "duration": 0.039802,
     "end_time": "2023-03-06T16:14:38.657861",
     "exception": false,
     "start_time": "2023-03-06T16:14:38.618059",
     "status": "completed"
    },
    "tags": []
   },
   "outputs": [],
   "source": [
    "submission = pd.read_csv(data_path + 'sampleSubmission.csv') # 제출 샘플 데이터"
   ]
  },
  {
   "cell_type": "code",
   "execution_count": 5,
   "id": "d6ee5cb0",
   "metadata": {
    "execution": {
     "iopub.execute_input": "2023-03-06T16:14:38.680210Z",
     "iopub.status.busy": "2023-03-06T16:14:38.679736Z",
     "iopub.status.idle": "2023-03-06T16:14:38.689053Z",
     "shell.execute_reply": "2023-03-06T16:14:38.687716Z"
    },
    "papermill": {
     "duration": 0.023237,
     "end_time": "2023-03-06T16:14:38.691234",
     "exception": false,
     "start_time": "2023-03-06T16:14:38.667997",
     "status": "completed"
    },
    "tags": []
   },
   "outputs": [
    {
     "data": {
      "text/plain": [
       "((10886, 12), (6493, 9))"
      ]
     },
     "execution_count": 5,
     "metadata": {},
     "output_type": "execute_result"
    }
   ],
   "source": [
    "# 훈련데이터와 테스트 데이터 크기를 확인\n",
    "\n",
    "train.shape, test.shape"
   ]
  },
  {
   "cell_type": "markdown",
   "id": "d7bd1ef0",
   "metadata": {
    "papermill": {
     "duration": 0.009863,
     "end_time": "2023-03-06T16:14:38.711188",
     "exception": false,
     "start_time": "2023-03-06T16:14:38.701325",
     "status": "completed"
    },
    "tags": []
   },
   "source": [
    "- 훈련 데이터는 10,886행 **12열**로 구성\n",
    "- 테스트 데이터는 6,493행 **9열**로 구성\n",
    "- ❓ Note that: 피처의 개수가 서로 다르다\n",
    "    - 어떤 피처 데이터를 담고있는지 살펴봅시다"
   ]
  },
  {
   "cell_type": "code",
   "execution_count": 6,
   "id": "05f0ad33",
   "metadata": {
    "execution": {
     "iopub.execute_input": "2023-03-06T16:14:38.733857Z",
     "iopub.status.busy": "2023-03-06T16:14:38.733145Z",
     "iopub.status.idle": "2023-03-06T16:14:38.765573Z",
     "shell.execute_reply": "2023-03-06T16:14:38.764126Z"
    },
    "papermill": {
     "duration": 0.046815,
     "end_time": "2023-03-06T16:14:38.768418",
     "exception": false,
     "start_time": "2023-03-06T16:14:38.721603",
     "status": "completed"
    },
    "tags": []
   },
   "outputs": [
    {
     "data": {
      "text/html": [
       "<div>\n",
       "<style scoped>\n",
       "    .dataframe tbody tr th:only-of-type {\n",
       "        vertical-align: middle;\n",
       "    }\n",
       "\n",
       "    .dataframe tbody tr th {\n",
       "        vertical-align: top;\n",
       "    }\n",
       "\n",
       "    .dataframe thead th {\n",
       "        text-align: right;\n",
       "    }\n",
       "</style>\n",
       "<table border=\"1\" class=\"dataframe\">\n",
       "  <thead>\n",
       "    <tr style=\"text-align: right;\">\n",
       "      <th></th>\n",
       "      <th>datetime</th>\n",
       "      <th>season</th>\n",
       "      <th>holiday</th>\n",
       "      <th>workingday</th>\n",
       "      <th>weather</th>\n",
       "      <th>temp</th>\n",
       "      <th>atemp</th>\n",
       "      <th>humidity</th>\n",
       "      <th>windspeed</th>\n",
       "      <th>casual</th>\n",
       "      <th>registered</th>\n",
       "      <th>count</th>\n",
       "    </tr>\n",
       "  </thead>\n",
       "  <tbody>\n",
       "    <tr>\n",
       "      <th>0</th>\n",
       "      <td>2011-01-01 00:00:00</td>\n",
       "      <td>1</td>\n",
       "      <td>0</td>\n",
       "      <td>0</td>\n",
       "      <td>1</td>\n",
       "      <td>9.84</td>\n",
       "      <td>14.395</td>\n",
       "      <td>81</td>\n",
       "      <td>0.0</td>\n",
       "      <td>3</td>\n",
       "      <td>13</td>\n",
       "      <td>16</td>\n",
       "    </tr>\n",
       "    <tr>\n",
       "      <th>1</th>\n",
       "      <td>2011-01-01 01:00:00</td>\n",
       "      <td>1</td>\n",
       "      <td>0</td>\n",
       "      <td>0</td>\n",
       "      <td>1</td>\n",
       "      <td>9.02</td>\n",
       "      <td>13.635</td>\n",
       "      <td>80</td>\n",
       "      <td>0.0</td>\n",
       "      <td>8</td>\n",
       "      <td>32</td>\n",
       "      <td>40</td>\n",
       "    </tr>\n",
       "    <tr>\n",
       "      <th>2</th>\n",
       "      <td>2011-01-01 02:00:00</td>\n",
       "      <td>1</td>\n",
       "      <td>0</td>\n",
       "      <td>0</td>\n",
       "      <td>1</td>\n",
       "      <td>9.02</td>\n",
       "      <td>13.635</td>\n",
       "      <td>80</td>\n",
       "      <td>0.0</td>\n",
       "      <td>5</td>\n",
       "      <td>27</td>\n",
       "      <td>32</td>\n",
       "    </tr>\n",
       "    <tr>\n",
       "      <th>3</th>\n",
       "      <td>2011-01-01 03:00:00</td>\n",
       "      <td>1</td>\n",
       "      <td>0</td>\n",
       "      <td>0</td>\n",
       "      <td>1</td>\n",
       "      <td>9.84</td>\n",
       "      <td>14.395</td>\n",
       "      <td>75</td>\n",
       "      <td>0.0</td>\n",
       "      <td>3</td>\n",
       "      <td>10</td>\n",
       "      <td>13</td>\n",
       "    </tr>\n",
       "    <tr>\n",
       "      <th>4</th>\n",
       "      <td>2011-01-01 04:00:00</td>\n",
       "      <td>1</td>\n",
       "      <td>0</td>\n",
       "      <td>0</td>\n",
       "      <td>1</td>\n",
       "      <td>9.84</td>\n",
       "      <td>14.395</td>\n",
       "      <td>75</td>\n",
       "      <td>0.0</td>\n",
       "      <td>0</td>\n",
       "      <td>1</td>\n",
       "      <td>1</td>\n",
       "    </tr>\n",
       "  </tbody>\n",
       "</table>\n",
       "</div>"
      ],
      "text/plain": [
       "              datetime  season  holiday  workingday  weather  temp   atemp  \\\n",
       "0  2011-01-01 00:00:00       1        0           0        1  9.84  14.395   \n",
       "1  2011-01-01 01:00:00       1        0           0        1  9.02  13.635   \n",
       "2  2011-01-01 02:00:00       1        0           0        1  9.02  13.635   \n",
       "3  2011-01-01 03:00:00       1        0           0        1  9.84  14.395   \n",
       "4  2011-01-01 04:00:00       1        0           0        1  9.84  14.395   \n",
       "\n",
       "   humidity  windspeed  casual  registered  count  \n",
       "0        81        0.0       3          13     16  \n",
       "1        80        0.0       8          32     40  \n",
       "2        80        0.0       5          27     32  \n",
       "3        75        0.0       3          10     13  \n",
       "4        75        0.0       0           1      1  "
      ]
     },
     "execution_count": 6,
     "metadata": {},
     "output_type": "execute_result"
    }
   ],
   "source": [
    "train.head()"
   ]
  },
  {
   "cell_type": "markdown",
   "id": "8dbe30ab",
   "metadata": {
    "papermill": {
     "duration": 0.010148,
     "end_time": "2023-03-06T16:14:38.789133",
     "exception": false,
     "start_time": "2023-03-06T16:14:38.778985",
     "status": "completed"
    },
    "tags": []
   },
   "source": [
    "### 경진대회 데이터의 피처들\n",
    "\n",
    "- `datetime`: 기록 일시 (1시간 간격)\n",
    "- `season`: 계절\n",
    "    - 1: 봄\n",
    "    - 2: 여름\n",
    "    - 3: 가을\n",
    "    - 4: 겨울\n",
    "- `holiday`: 공휴일 여부\n",
    "    - 0: 공휴일 아님\n",
    "    - 1: 공휴일\n",
    "- `workingday`: 근무일 여부\n",
    "    - 0: 근무일 아님\n",
    "    - 1: 근무일\n",
    "    - 주말과 공휴일이 아니면 근무일이라고 간주\n",
    "- `weather`: 날씨\n",
    "    - 1: 맑음\n",
    "    - 2: 옅은 안개, 약간 흐림\n",
    "    - 3: 약간의 눈, 약간의 비와 천둥 번개, 흐림\n",
    "    - 4: 폭우와 천둥 번개, 눈과 짙은 안개\n",
    "    - 숫자가 클수록 날씨가 안 좋음\n",
    "- `temp`: 실제 온도\n",
    "- `atemp`: 체감 온도\n",
    "- `humidity`: 상대 습도\n",
    "- `windspeed`: 풍속\n",
    "- `casual`: 등록되지 않은 사용자(비회원) 수\n",
    "- `registered`: 등록된 사용자(회원) 수\n",
    "- `count`: 자전거 대여 수량\n",
    "    - $\\Rightarrow$**예측해야 할 값**: 시간당 총 자전거 대여 수량"
   ]
  },
  {
   "cell_type": "code",
   "execution_count": 7,
   "id": "c01c2c46",
   "metadata": {
    "execution": {
     "iopub.execute_input": "2023-03-06T16:14:38.812613Z",
     "iopub.status.busy": "2023-03-06T16:14:38.812187Z",
     "iopub.status.idle": "2023-03-06T16:14:38.828214Z",
     "shell.execute_reply": "2023-03-06T16:14:38.826925Z"
    },
    "papermill": {
     "duration": 0.031202,
     "end_time": "2023-03-06T16:14:38.830802",
     "exception": false,
     "start_time": "2023-03-06T16:14:38.799600",
     "status": "completed"
    },
    "tags": []
   },
   "outputs": [
    {
     "data": {
      "text/html": [
       "<div>\n",
       "<style scoped>\n",
       "    .dataframe tbody tr th:only-of-type {\n",
       "        vertical-align: middle;\n",
       "    }\n",
       "\n",
       "    .dataframe tbody tr th {\n",
       "        vertical-align: top;\n",
       "    }\n",
       "\n",
       "    .dataframe thead th {\n",
       "        text-align: right;\n",
       "    }\n",
       "</style>\n",
       "<table border=\"1\" class=\"dataframe\">\n",
       "  <thead>\n",
       "    <tr style=\"text-align: right;\">\n",
       "      <th></th>\n",
       "      <th>datetime</th>\n",
       "      <th>season</th>\n",
       "      <th>holiday</th>\n",
       "      <th>workingday</th>\n",
       "      <th>weather</th>\n",
       "      <th>temp</th>\n",
       "      <th>atemp</th>\n",
       "      <th>humidity</th>\n",
       "      <th>windspeed</th>\n",
       "    </tr>\n",
       "  </thead>\n",
       "  <tbody>\n",
       "    <tr>\n",
       "      <th>0</th>\n",
       "      <td>2011-01-20 00:00:00</td>\n",
       "      <td>1</td>\n",
       "      <td>0</td>\n",
       "      <td>1</td>\n",
       "      <td>1</td>\n",
       "      <td>10.66</td>\n",
       "      <td>11.365</td>\n",
       "      <td>56</td>\n",
       "      <td>26.0027</td>\n",
       "    </tr>\n",
       "    <tr>\n",
       "      <th>1</th>\n",
       "      <td>2011-01-20 01:00:00</td>\n",
       "      <td>1</td>\n",
       "      <td>0</td>\n",
       "      <td>1</td>\n",
       "      <td>1</td>\n",
       "      <td>10.66</td>\n",
       "      <td>13.635</td>\n",
       "      <td>56</td>\n",
       "      <td>0.0000</td>\n",
       "    </tr>\n",
       "    <tr>\n",
       "      <th>2</th>\n",
       "      <td>2011-01-20 02:00:00</td>\n",
       "      <td>1</td>\n",
       "      <td>0</td>\n",
       "      <td>1</td>\n",
       "      <td>1</td>\n",
       "      <td>10.66</td>\n",
       "      <td>13.635</td>\n",
       "      <td>56</td>\n",
       "      <td>0.0000</td>\n",
       "    </tr>\n",
       "    <tr>\n",
       "      <th>3</th>\n",
       "      <td>2011-01-20 03:00:00</td>\n",
       "      <td>1</td>\n",
       "      <td>0</td>\n",
       "      <td>1</td>\n",
       "      <td>1</td>\n",
       "      <td>10.66</td>\n",
       "      <td>12.880</td>\n",
       "      <td>56</td>\n",
       "      <td>11.0014</td>\n",
       "    </tr>\n",
       "    <tr>\n",
       "      <th>4</th>\n",
       "      <td>2011-01-20 04:00:00</td>\n",
       "      <td>1</td>\n",
       "      <td>0</td>\n",
       "      <td>1</td>\n",
       "      <td>1</td>\n",
       "      <td>10.66</td>\n",
       "      <td>12.880</td>\n",
       "      <td>56</td>\n",
       "      <td>11.0014</td>\n",
       "    </tr>\n",
       "  </tbody>\n",
       "</table>\n",
       "</div>"
      ],
      "text/plain": [
       "              datetime  season  holiday  workingday  weather   temp   atemp  \\\n",
       "0  2011-01-20 00:00:00       1        0           1        1  10.66  11.365   \n",
       "1  2011-01-20 01:00:00       1        0           1        1  10.66  13.635   \n",
       "2  2011-01-20 02:00:00       1        0           1        1  10.66  13.635   \n",
       "3  2011-01-20 03:00:00       1        0           1        1  10.66  12.880   \n",
       "4  2011-01-20 04:00:00       1        0           1        1  10.66  12.880   \n",
       "\n",
       "   humidity  windspeed  \n",
       "0        56    26.0027  \n",
       "1        56     0.0000  \n",
       "2        56     0.0000  \n",
       "3        56    11.0014  \n",
       "4        56    11.0014  "
      ]
     },
     "execution_count": 7,
     "metadata": {},
     "output_type": "execute_result"
    }
   ],
   "source": [
    "test.head()"
   ]
  },
  {
   "cell_type": "markdown",
   "id": "e250af92",
   "metadata": {
    "papermill": {
     "duration": 0.010494,
     "end_time": "2023-03-06T16:14:38.852507",
     "exception": false,
     "start_time": "2023-03-06T16:14:38.842013",
     "status": "completed"
    },
    "tags": []
   },
   "source": [
    "- 테스트 데이터는 피처 수가 훈련 데이터보다 적다\n",
    "    - `casual`과 `registered`가 빠짐\n",
    "    - 모델을 훈련할 떄에도 빼야 한다."
   ]
  },
  {
   "cell_type": "code",
   "execution_count": 8,
   "id": "fd6ca1b8",
   "metadata": {
    "execution": {
     "iopub.execute_input": "2023-03-06T16:14:38.876751Z",
     "iopub.status.busy": "2023-03-06T16:14:38.875785Z",
     "iopub.status.idle": "2023-03-06T16:14:38.886783Z",
     "shell.execute_reply": "2023-03-06T16:14:38.885382Z"
    },
    "papermill": {
     "duration": 0.026279,
     "end_time": "2023-03-06T16:14:38.889482",
     "exception": false,
     "start_time": "2023-03-06T16:14:38.863203",
     "status": "completed"
    },
    "tags": []
   },
   "outputs": [
    {
     "data": {
      "text/html": [
       "<div>\n",
       "<style scoped>\n",
       "    .dataframe tbody tr th:only-of-type {\n",
       "        vertical-align: middle;\n",
       "    }\n",
       "\n",
       "    .dataframe tbody tr th {\n",
       "        vertical-align: top;\n",
       "    }\n",
       "\n",
       "    .dataframe thead th {\n",
       "        text-align: right;\n",
       "    }\n",
       "</style>\n",
       "<table border=\"1\" class=\"dataframe\">\n",
       "  <thead>\n",
       "    <tr style=\"text-align: right;\">\n",
       "      <th></th>\n",
       "      <th>datetime</th>\n",
       "      <th>count</th>\n",
       "    </tr>\n",
       "  </thead>\n",
       "  <tbody>\n",
       "    <tr>\n",
       "      <th>0</th>\n",
       "      <td>2011-01-20 00:00:00</td>\n",
       "      <td>0</td>\n",
       "    </tr>\n",
       "    <tr>\n",
       "      <th>1</th>\n",
       "      <td>2011-01-20 01:00:00</td>\n",
       "      <td>0</td>\n",
       "    </tr>\n",
       "    <tr>\n",
       "      <th>2</th>\n",
       "      <td>2011-01-20 02:00:00</td>\n",
       "      <td>0</td>\n",
       "    </tr>\n",
       "    <tr>\n",
       "      <th>3</th>\n",
       "      <td>2011-01-20 03:00:00</td>\n",
       "      <td>0</td>\n",
       "    </tr>\n",
       "    <tr>\n",
       "      <th>4</th>\n",
       "      <td>2011-01-20 04:00:00</td>\n",
       "      <td>0</td>\n",
       "    </tr>\n",
       "  </tbody>\n",
       "</table>\n",
       "</div>"
      ],
      "text/plain": [
       "              datetime  count\n",
       "0  2011-01-20 00:00:00      0\n",
       "1  2011-01-20 01:00:00      0\n",
       "2  2011-01-20 02:00:00      0\n",
       "3  2011-01-20 03:00:00      0\n",
       "4  2011-01-20 04:00:00      0"
      ]
     },
     "execution_count": 8,
     "metadata": {},
     "output_type": "execute_result"
    }
   ],
   "source": [
    "# 제출 샘플 파일\n",
    "submission.head()"
   ]
  },
  {
   "cell_type": "markdown",
   "id": "3c8f5251",
   "metadata": {
    "papermill": {
     "duration": 0.010628,
     "end_time": "2023-03-06T16:14:38.910968",
     "exception": false,
     "start_time": "2023-03-06T16:14:38.900340",
     "status": "completed"
    },
    "tags": []
   },
   "source": [
    "- `count`: 시간대별 대여 수량을 예측해 이 값을 바꾼 뒤 제출합시다.\n",
    "- ID 값 (datetime) 은 데이터를 구분하는 역할만 하므로 이 피처는 제거할 계획"
   ]
  },
  {
   "cell_type": "code",
   "execution_count": 9,
   "id": "36348d89",
   "metadata": {
    "execution": {
     "iopub.execute_input": "2023-03-06T16:14:38.935364Z",
     "iopub.status.busy": "2023-03-06T16:14:38.934436Z",
     "iopub.status.idle": "2023-03-06T16:14:38.960514Z",
     "shell.execute_reply": "2023-03-06T16:14:38.958712Z"
    },
    "papermill": {
     "duration": 0.041951,
     "end_time": "2023-03-06T16:14:38.963683",
     "exception": false,
     "start_time": "2023-03-06T16:14:38.921732",
     "status": "completed"
    },
    "tags": []
   },
   "outputs": [
    {
     "name": "stdout",
     "output_type": "stream",
     "text": [
      "<class 'pandas.core.frame.DataFrame'>\n",
      "RangeIndex: 10886 entries, 0 to 10885\n",
      "Data columns (total 12 columns):\n",
      " #   Column      Non-Null Count  Dtype  \n",
      "---  ------      --------------  -----  \n",
      " 0   datetime    10886 non-null  object \n",
      " 1   season      10886 non-null  int64  \n",
      " 2   holiday     10886 non-null  int64  \n",
      " 3   workingday  10886 non-null  int64  \n",
      " 4   weather     10886 non-null  int64  \n",
      " 5   temp        10886 non-null  float64\n",
      " 6   atemp       10886 non-null  float64\n",
      " 7   humidity    10886 non-null  int64  \n",
      " 8   windspeed   10886 non-null  float64\n",
      " 9   casual      10886 non-null  int64  \n",
      " 10  registered  10886 non-null  int64  \n",
      " 11  count       10886 non-null  int64  \n",
      "dtypes: float64(3), int64(8), object(1)\n",
      "memory usage: 1020.7+ KB\n"
     ]
    }
   ],
   "source": [
    "# info() 함수를 사용하면 DataFrame 각 열의 결측값이 몇 개, 데이터 타임은 무엇인지 파악할 수 있다.\n",
    "train.info()"
   ]
  },
  {
   "cell_type": "markdown",
   "id": "4465e114",
   "metadata": {
    "papermill": {
     "duration": 0.010634,
     "end_time": "2023-03-06T16:14:38.985438",
     "exception": false,
     "start_time": "2023-03-06T16:14:38.974804",
     "status": "completed"
    },
    "tags": []
   },
   "source": [
    "# 2. 데이터 시각화\n",
    "## 2-1. Time 변수 전처리\n",
    "\n",
    "- 데이터를 다양한 관점에서 시각화해보면 raw data 상태에서는 찾기 어려운 경향, 공통점, 차이 등이 드러날 수 있음\n",
    "- 일부데이터 (`datetime`)은 시각화에 적합하지 않음\n",
    "    - 적절하게 변환 (피처엔지니어링) 필요\n",
    "    \n",
    "    \n",
    "- `datetime`은 연도, 월, 일, 시간, 분, 초로 구성되어 있다.\n",
    "- `split()`을 써서 구성요소를 나누어보자"
   ]
  },
  {
   "cell_type": "code",
   "execution_count": 10,
   "id": "c84dfdfa",
   "metadata": {
    "execution": {
     "iopub.execute_input": "2023-03-06T16:14:39.010392Z",
     "iopub.status.busy": "2023-03-06T16:14:39.009956Z",
     "iopub.status.idle": "2023-03-06T16:14:39.017983Z",
     "shell.execute_reply": "2023-03-06T16:14:39.016738Z"
    },
    "papermill": {
     "duration": 0.023685,
     "end_time": "2023-03-06T16:14:39.020821",
     "exception": false,
     "start_time": "2023-03-06T16:14:38.997136",
     "status": "completed"
    },
    "tags": []
   },
   "outputs": [
    {
     "name": "stdout",
     "output_type": "stream",
     "text": [
      "2011-01-05 09:00:00\n",
      "['2011-01-05', '09:00:00']\n",
      "2011-01-05\n",
      "09:00:00\n"
     ]
    }
   ],
   "source": [
    "# datetime의 100번째 원소를 예로 들어 어떻게 나누는지 살펴보자\n",
    "print(train['datetime'][100]) # datetime 100 (101) 번째 원소\n",
    "print(train['datetime'][100].split()) # 공백 기준으로 문자열 나누기\n",
    "print(train['datetime'][100].split()[0]) # 날짜\n",
    "print(train['datetime'][100].split()[1]) # 시간"
   ]
  },
  {
   "cell_type": "markdown",
   "id": "3f754fed",
   "metadata": {
    "papermill": {
     "duration": 0.010695,
     "end_time": "2023-03-06T16:14:39.042629",
     "exception": false,
     "start_time": "2023-03-06T16:14:39.031934",
     "status": "completed"
    },
    "tags": []
   },
   "source": [
    "- `datetime` 피처는 object 타입이므로 문자열처럼 다룰 수 있따."
   ]
  },
  {
   "cell_type": "code",
   "execution_count": 11,
   "id": "4d3fbe3b",
   "metadata": {
    "execution": {
     "iopub.execute_input": "2023-03-06T16:14:39.067099Z",
     "iopub.status.busy": "2023-03-06T16:14:39.066629Z",
     "iopub.status.idle": "2023-03-06T16:14:39.075517Z",
     "shell.execute_reply": "2023-03-06T16:14:39.074071Z"
    },
    "papermill": {
     "duration": 0.026189,
     "end_time": "2023-03-06T16:14:39.079898",
     "exception": false,
     "start_time": "2023-03-06T16:14:39.053709",
     "status": "completed"
    },
    "tags": []
   },
   "outputs": [
    {
     "name": "stdout",
     "output_type": "stream",
     "text": [
      "2011-01-05\n",
      "['2011', '01', '05']\n",
      "2011\n",
      "01\n",
      "05\n"
     ]
    }
   ],
   "source": [
    "# 날짜 문자열을 다시 연도, 월, 일로 나누어보자.\n",
    "print(train['datetime'][100].split()[0]) # 날짜\n",
    "print(train['datetime'][100].split()[0].split(\"-\")) # \"-\" 기준으로 문자열 나누니\n",
    "print(train['datetime'][100].split()[0].split(\"-\")[0]) # 연도\n",
    "print(train['datetime'][100].split()[0].split(\"-\")[1]) # 월\n",
    "print(train['datetime'][100].split()[0].split(\"-\")[2]) # 일"
   ]
  },
  {
   "cell_type": "markdown",
   "id": "2bcaa570",
   "metadata": {
    "papermill": {
     "duration": 0.010864,
     "end_time": "2023-03-06T16:14:39.102794",
     "exception": false,
     "start_time": "2023-03-06T16:14:39.091930",
     "status": "completed"
    },
    "tags": []
   },
   "source": [
    "- 다음으로 판다스 `apply()` 함수로 앞의 로직을 `datetime`에 적용해 \n",
    "    - 날짜 (`date`) \n",
    "    - 연도 (`year`)\n",
    "    - 월 (`month`)\n",
    "    - 일 (`day`)\n",
    "    - 시 (`hour`)\n",
    "    - 분 (`minute`)\n",
    "    - 초 (`second`)\n",
    "    \n",
    "    피처를 생성해보자"
   ]
  },
  {
   "cell_type": "code",
   "execution_count": 12,
   "id": "8e2e05ed",
   "metadata": {
    "execution": {
     "iopub.execute_input": "2023-03-06T16:14:39.127524Z",
     "iopub.status.busy": "2023-03-06T16:14:39.126628Z",
     "iopub.status.idle": "2023-03-06T16:14:39.142714Z",
     "shell.execute_reply": "2023-03-06T16:14:39.141816Z"
    },
    "papermill": {
     "duration": 0.031261,
     "end_time": "2023-03-06T16:14:39.145087",
     "exception": false,
     "start_time": "2023-03-06T16:14:39.113826",
     "status": "completed"
    },
    "tags": []
   },
   "outputs": [
    {
     "data": {
      "text/plain": [
       "0        2011-01-01\n",
       "1        2011-01-01\n",
       "2        2011-01-01\n",
       "3        2011-01-01\n",
       "4        2011-01-01\n",
       "            ...    \n",
       "10881    2012-12-19\n",
       "10882    2012-12-19\n",
       "10883    2012-12-19\n",
       "10884    2012-12-19\n",
       "10885    2012-12-19\n",
       "Name: date, Length: 10886, dtype: object"
      ]
     },
     "execution_count": 12,
     "metadata": {},
     "output_type": "execute_result"
    }
   ],
   "source": [
    "train['date'] = train['datetime'].apply(lambda x: x.split()[0]) # 날짜 피처 생성\n",
    "train['date']"
   ]
  },
  {
   "cell_type": "code",
   "execution_count": 13,
   "id": "935afe9e",
   "metadata": {
    "execution": {
     "iopub.execute_input": "2023-03-06T16:14:39.170062Z",
     "iopub.status.busy": "2023-03-06T16:14:39.169589Z",
     "iopub.status.idle": "2023-03-06T16:14:39.229877Z",
     "shell.execute_reply": "2023-03-06T16:14:39.228408Z"
    },
    "papermill": {
     "duration": 0.076378,
     "end_time": "2023-03-06T16:14:39.233072",
     "exception": false,
     "start_time": "2023-03-06T16:14:39.156694",
     "status": "completed"
    },
    "tags": []
   },
   "outputs": [],
   "source": [
    "# 연도, 월, 일, 시, 분, 초 피처를 생성\n",
    "\n",
    "train['year'] = train['datetime'].apply(lambda x : x.split()[0].split('-')[0])\n",
    "train['month'] = train['datetime'].apply(lambda x : x.split()[0].split('-')[1])\n",
    "train['day'] = train['datetime'].apply(lambda x : x.split()[0].split('-')[2])\n",
    "\n",
    "train['hour'] = train['datetime'].apply(lambda x : x.split()[1].split(':')[0])\n",
    "train['minute'] = train['datetime'].apply(lambda x : x.split()[1].split(':')[1])\n",
    "train['second'] = train['datetime'].apply(lambda x : x.split()[1].split(':')[2])"
   ]
  },
  {
   "cell_type": "markdown",
   "id": "3efd29ac",
   "metadata": {
    "papermill": {
     "duration": 0.010903,
     "end_time": "2023-03-06T16:14:39.255085",
     "exception": false,
     "start_time": "2023-03-06T16:14:39.244182",
     "status": "completed"
    },
    "tags": []
   },
   "source": [
    "- `apply()` 함수는 DataFrame 축 (기본값은 DataFrame의 각 열에 따라 수행)을 따라 적용하는 기능을 한다.\n",
    "- 이제는 날짜 문자열에서 요일을 추출하는 방법을 한 단계씩 알아보자"
   ]
  },
  {
   "cell_type": "code",
   "execution_count": 14,
   "id": "46d2e6bf",
   "metadata": {
    "execution": {
     "iopub.execute_input": "2023-03-06T16:14:39.279407Z",
     "iopub.status.busy": "2023-03-06T16:14:39.278950Z",
     "iopub.status.idle": "2023-03-06T16:14:39.284383Z",
     "shell.execute_reply": "2023-03-06T16:14:39.283066Z"
    },
    "papermill": {
     "duration": 0.020788,
     "end_time": "2023-03-06T16:14:39.286980",
     "exception": false,
     "start_time": "2023-03-06T16:14:39.266192",
     "status": "completed"
    },
    "tags": []
   },
   "outputs": [],
   "source": [
    "from datetime import datetime # datetime 라이브러리 임포트\n",
    "import calendar"
   ]
  },
  {
   "cell_type": "code",
   "execution_count": 15,
   "id": "5ea95252",
   "metadata": {
    "execution": {
     "iopub.execute_input": "2023-03-06T16:14:39.311751Z",
     "iopub.status.busy": "2023-03-06T16:14:39.311302Z",
     "iopub.status.idle": "2023-03-06T16:14:39.321236Z",
     "shell.execute_reply": "2023-03-06T16:14:39.319449Z"
    },
    "papermill": {
     "duration": 0.025718,
     "end_time": "2023-03-06T16:14:39.323914",
     "exception": false,
     "start_time": "2023-03-06T16:14:39.298196",
     "status": "completed"
    },
    "tags": []
   },
   "outputs": [
    {
     "name": "stdout",
     "output_type": "stream",
     "text": [
      "2011-01-05\n",
      "2011-01-05 00:00:00\n",
      "2\n",
      "Wednesday\n"
     ]
    }
   ],
   "source": [
    "print(train['date'][100]) # 날짜\n",
    "print(datetime.strptime(train['date'][100], '%Y-%m-%d')) # datetime 타입으로 변경\n",
    "\n",
    "\n",
    "# 정수로 요일 반환\n",
    "print(datetime.strptime(train['date'][100], '%Y-%m-%d').weekday())\n",
    "\n",
    "# 문자열로 요일 반환\n",
    "print(calendar.day_name[datetime.strptime(train['date'][100], '%Y-%m-%d').weekday()])"
   ]
  },
  {
   "cell_type": "markdown",
   "id": "0cb052b3",
   "metadata": {
    "papermill": {
     "duration": 0.011006,
     "end_time": "2023-03-06T16:14:39.346241",
     "exception": false,
     "start_time": "2023-03-06T16:14:39.335235",
     "status": "completed"
    },
    "tags": []
   },
   "source": [
    "- `calendar`와 `datetime` 라이브러리를 사용하면 요일 피처를 문자로 구할 수 있다.\n",
    "    - 시각화 하기 좋게하기 위해서\n",
    "- 0 : 월요일, 1 : 화요일...\n",
    "- 모델 훈련할 때는 숫자로\n",
    "\n",
    "- 앞의 로직을 `apply()` 함수로 적용해 요일(`weekday`) 피처를 추가"
   ]
  },
  {
   "cell_type": "code",
   "execution_count": 16,
   "id": "ea46bd09",
   "metadata": {
    "execution": {
     "iopub.execute_input": "2023-03-06T16:14:39.370679Z",
     "iopub.status.busy": "2023-03-06T16:14:39.370225Z",
     "iopub.status.idle": "2023-03-06T16:14:39.525929Z",
     "shell.execute_reply": "2023-03-06T16:14:39.524622Z"
    },
    "papermill": {
     "duration": 0.17151,
     "end_time": "2023-03-06T16:14:39.528872",
     "exception": false,
     "start_time": "2023-03-06T16:14:39.357362",
     "status": "completed"
    },
    "tags": []
   },
   "outputs": [],
   "source": [
    "train['weekday'] = train['date'].apply(lambda dataString: \n",
    "                                      calendar.day_name[datetime.strptime(dataString, \n",
    "                                                                          \"%Y-%m-%d\").weekday()])"
   ]
  },
  {
   "cell_type": "markdown",
   "id": "96850e73",
   "metadata": {
    "papermill": {
     "duration": 0.011292,
     "end_time": "2023-03-06T16:14:39.551811",
     "exception": false,
     "start_time": "2023-03-06T16:14:39.540519",
     "status": "completed"
    },
    "tags": []
   },
   "source": [
    "- 다음은 `season`과 `weather` 피처\n",
    "- 시각화 시에 의미가 잘 드러나도록 `map()` 함수를 사용하여 문자열로 바꿈"
   ]
  },
  {
   "cell_type": "code",
   "execution_count": 17,
   "id": "3abb36d2",
   "metadata": {
    "execution": {
     "iopub.execute_input": "2023-03-06T16:14:39.577327Z",
     "iopub.status.busy": "2023-03-06T16:14:39.576909Z",
     "iopub.status.idle": "2023-03-06T16:14:39.587907Z",
     "shell.execute_reply": "2023-03-06T16:14:39.586926Z"
    },
    "papermill": {
     "duration": 0.027021,
     "end_time": "2023-03-06T16:14:39.590373",
     "exception": false,
     "start_time": "2023-03-06T16:14:39.563352",
     "status": "completed"
    },
    "tags": []
   },
   "outputs": [],
   "source": [
    "train['season'] = train['season'].map({1: 'Spring', \n",
    "                                       2: 'Summer', \n",
    "                                       3: 'Fall', \n",
    "                                       4: 'Winter' })\n",
    "train['weather'] = train['weather'].map({1: 'Clear', \n",
    "                                         2: 'Mist, Few clouds', \n",
    "                                         3: 'Light Snow, Rain, Thunder', \n",
    "                                         4: 'Heavy Snow, Rain, Thunder'})"
   ]
  },
  {
   "cell_type": "code",
   "execution_count": 18,
   "id": "530171af",
   "metadata": {
    "execution": {
     "iopub.execute_input": "2023-03-06T16:14:39.614855Z",
     "iopub.status.busy": "2023-03-06T16:14:39.614370Z",
     "iopub.status.idle": "2023-03-06T16:14:39.638845Z",
     "shell.execute_reply": "2023-03-06T16:14:39.637551Z"
    },
    "papermill": {
     "duration": 0.039906,
     "end_time": "2023-03-06T16:14:39.641417",
     "exception": false,
     "start_time": "2023-03-06T16:14:39.601511",
     "status": "completed"
    },
    "tags": []
   },
   "outputs": [
    {
     "data": {
      "text/html": [
       "<div>\n",
       "<style scoped>\n",
       "    .dataframe tbody tr th:only-of-type {\n",
       "        vertical-align: middle;\n",
       "    }\n",
       "\n",
       "    .dataframe tbody tr th {\n",
       "        vertical-align: top;\n",
       "    }\n",
       "\n",
       "    .dataframe thead th {\n",
       "        text-align: right;\n",
       "    }\n",
       "</style>\n",
       "<table border=\"1\" class=\"dataframe\">\n",
       "  <thead>\n",
       "    <tr style=\"text-align: right;\">\n",
       "      <th></th>\n",
       "      <th>datetime</th>\n",
       "      <th>season</th>\n",
       "      <th>holiday</th>\n",
       "      <th>workingday</th>\n",
       "      <th>weather</th>\n",
       "      <th>temp</th>\n",
       "      <th>atemp</th>\n",
       "      <th>humidity</th>\n",
       "      <th>windspeed</th>\n",
       "      <th>casual</th>\n",
       "      <th>registered</th>\n",
       "      <th>count</th>\n",
       "      <th>date</th>\n",
       "      <th>year</th>\n",
       "      <th>month</th>\n",
       "      <th>day</th>\n",
       "      <th>hour</th>\n",
       "      <th>minute</th>\n",
       "      <th>second</th>\n",
       "      <th>weekday</th>\n",
       "    </tr>\n",
       "  </thead>\n",
       "  <tbody>\n",
       "    <tr>\n",
       "      <th>0</th>\n",
       "      <td>2011-01-01 00:00:00</td>\n",
       "      <td>Spring</td>\n",
       "      <td>0</td>\n",
       "      <td>0</td>\n",
       "      <td>Clear</td>\n",
       "      <td>9.84</td>\n",
       "      <td>14.395</td>\n",
       "      <td>81</td>\n",
       "      <td>0.0</td>\n",
       "      <td>3</td>\n",
       "      <td>13</td>\n",
       "      <td>16</td>\n",
       "      <td>2011-01-01</td>\n",
       "      <td>2011</td>\n",
       "      <td>01</td>\n",
       "      <td>01</td>\n",
       "      <td>00</td>\n",
       "      <td>00</td>\n",
       "      <td>00</td>\n",
       "      <td>Saturday</td>\n",
       "    </tr>\n",
       "    <tr>\n",
       "      <th>1</th>\n",
       "      <td>2011-01-01 01:00:00</td>\n",
       "      <td>Spring</td>\n",
       "      <td>0</td>\n",
       "      <td>0</td>\n",
       "      <td>Clear</td>\n",
       "      <td>9.02</td>\n",
       "      <td>13.635</td>\n",
       "      <td>80</td>\n",
       "      <td>0.0</td>\n",
       "      <td>8</td>\n",
       "      <td>32</td>\n",
       "      <td>40</td>\n",
       "      <td>2011-01-01</td>\n",
       "      <td>2011</td>\n",
       "      <td>01</td>\n",
       "      <td>01</td>\n",
       "      <td>01</td>\n",
       "      <td>00</td>\n",
       "      <td>00</td>\n",
       "      <td>Saturday</td>\n",
       "    </tr>\n",
       "    <tr>\n",
       "      <th>2</th>\n",
       "      <td>2011-01-01 02:00:00</td>\n",
       "      <td>Spring</td>\n",
       "      <td>0</td>\n",
       "      <td>0</td>\n",
       "      <td>Clear</td>\n",
       "      <td>9.02</td>\n",
       "      <td>13.635</td>\n",
       "      <td>80</td>\n",
       "      <td>0.0</td>\n",
       "      <td>5</td>\n",
       "      <td>27</td>\n",
       "      <td>32</td>\n",
       "      <td>2011-01-01</td>\n",
       "      <td>2011</td>\n",
       "      <td>01</td>\n",
       "      <td>01</td>\n",
       "      <td>02</td>\n",
       "      <td>00</td>\n",
       "      <td>00</td>\n",
       "      <td>Saturday</td>\n",
       "    </tr>\n",
       "    <tr>\n",
       "      <th>3</th>\n",
       "      <td>2011-01-01 03:00:00</td>\n",
       "      <td>Spring</td>\n",
       "      <td>0</td>\n",
       "      <td>0</td>\n",
       "      <td>Clear</td>\n",
       "      <td>9.84</td>\n",
       "      <td>14.395</td>\n",
       "      <td>75</td>\n",
       "      <td>0.0</td>\n",
       "      <td>3</td>\n",
       "      <td>10</td>\n",
       "      <td>13</td>\n",
       "      <td>2011-01-01</td>\n",
       "      <td>2011</td>\n",
       "      <td>01</td>\n",
       "      <td>01</td>\n",
       "      <td>03</td>\n",
       "      <td>00</td>\n",
       "      <td>00</td>\n",
       "      <td>Saturday</td>\n",
       "    </tr>\n",
       "    <tr>\n",
       "      <th>4</th>\n",
       "      <td>2011-01-01 04:00:00</td>\n",
       "      <td>Spring</td>\n",
       "      <td>0</td>\n",
       "      <td>0</td>\n",
       "      <td>Clear</td>\n",
       "      <td>9.84</td>\n",
       "      <td>14.395</td>\n",
       "      <td>75</td>\n",
       "      <td>0.0</td>\n",
       "      <td>0</td>\n",
       "      <td>1</td>\n",
       "      <td>1</td>\n",
       "      <td>2011-01-01</td>\n",
       "      <td>2011</td>\n",
       "      <td>01</td>\n",
       "      <td>01</td>\n",
       "      <td>04</td>\n",
       "      <td>00</td>\n",
       "      <td>00</td>\n",
       "      <td>Saturday</td>\n",
       "    </tr>\n",
       "  </tbody>\n",
       "</table>\n",
       "</div>"
      ],
      "text/plain": [
       "              datetime  season  holiday  workingday weather  temp   atemp  \\\n",
       "0  2011-01-01 00:00:00  Spring        0           0   Clear  9.84  14.395   \n",
       "1  2011-01-01 01:00:00  Spring        0           0   Clear  9.02  13.635   \n",
       "2  2011-01-01 02:00:00  Spring        0           0   Clear  9.02  13.635   \n",
       "3  2011-01-01 03:00:00  Spring        0           0   Clear  9.84  14.395   \n",
       "4  2011-01-01 04:00:00  Spring        0           0   Clear  9.84  14.395   \n",
       "\n",
       "   humidity  windspeed  casual  registered  count        date  year month day  \\\n",
       "0        81        0.0       3          13     16  2011-01-01  2011    01  01   \n",
       "1        80        0.0       8          32     40  2011-01-01  2011    01  01   \n",
       "2        80        0.0       5          27     32  2011-01-01  2011    01  01   \n",
       "3        75        0.0       3          10     13  2011-01-01  2011    01  01   \n",
       "4        75        0.0       0           1      1  2011-01-01  2011    01  01   \n",
       "\n",
       "  hour minute second   weekday  \n",
       "0   00     00     00  Saturday  \n",
       "1   01     00     00  Saturday  \n",
       "2   02     00     00  Saturday  \n",
       "3   03     00     00  Saturday  \n",
       "4   04     00     00  Saturday  "
      ]
     },
     "execution_count": 18,
     "metadata": {},
     "output_type": "execute_result"
    }
   ],
   "source": [
    "train.head()"
   ]
  },
  {
   "cell_type": "markdown",
   "id": "571eba56",
   "metadata": {
    "papermill": {
     "duration": 0.011655,
     "end_time": "2023-03-06T16:14:39.665053",
     "exception": false,
     "start_time": "2023-03-06T16:14:39.653398",
     "status": "completed"
    },
    "tags": []
   },
   "source": [
    "1. `date`, `year`, `month`, `day`, `hour`, `minute`, `second`, `weekday` 피처가 추가됨\n",
    "2. `season`과 `weather` 피처는 숫자에서 문자로 바뀜\n",
    "\n",
    "\n",
    "> - `year`, `month`, `day` 피처가 있으므로 `date`피처는 제거할 것이다.\n",
    "> - `season` 피처가 있으므로 `month` 피처는 제거할 것이다.\n",
    "\n",
    "## 2-2. 데이터 시각화\n",
    "- 피처를 추가한 training set을 시각화해보자\n",
    "- 시각화는 EDA에서 가장 중요한 부분\n",
    "- 시각화를 위해서는 `matplotlib`과 `seaborn` 라이브러리를 활용할 것이다.\n",
    "    - `matplotlib`: 파이썬으로 데이터를 시각화할 때 표준처럼 사용되는 라이브러리\n",
    "    - `seaborn`: matplotlib에 고수준 인터페이스를 덧씌운 라이브러리"
   ]
  },
  {
   "cell_type": "code",
   "execution_count": 19,
   "id": "c44f84ac",
   "metadata": {
    "execution": {
     "iopub.execute_input": "2023-03-06T16:14:39.690548Z",
     "iopub.status.busy": "2023-03-06T16:14:39.689696Z",
     "iopub.status.idle": "2023-03-06T16:14:40.920998Z",
     "shell.execute_reply": "2023-03-06T16:14:40.919718Z"
    },
    "papermill": {
     "duration": 1.246958,
     "end_time": "2023-03-06T16:14:40.923766",
     "exception": false,
     "start_time": "2023-03-06T16:14:39.676808",
     "status": "completed"
    },
    "tags": []
   },
   "outputs": [],
   "source": [
    "# 먼저 두 라이브러리를 임포트\n",
    "import seaborn as sns\n",
    "import matplotlib as mpl\n",
    "import matplotlib.pyplot as plt\n",
    "%matplotlib inline \n",
    "# matplotlib이 그린 그래프를 주피터 노트북에서 바로 출력해준다.\n",
    "# 캐글 환경에서는 없어도 되긴 함."
   ]
  },
  {
   "cell_type": "markdown",
   "id": "2abf4c08",
   "metadata": {
    "papermill": {
     "duration": 0.010874,
     "end_time": "2023-03-06T16:14:40.946054",
     "exception": false,
     "start_time": "2023-03-06T16:14:40.935180",
     "status": "completed"
    },
    "tags": []
   },
   "source": [
    "### 분포도\n",
    "\n",
    "- 타깃값인 `count`의 분포도를 그려보자"
   ]
  },
  {
   "cell_type": "code",
   "execution_count": 20,
   "id": "1e705495",
   "metadata": {
    "execution": {
     "iopub.execute_input": "2023-03-06T16:14:40.970859Z",
     "iopub.status.busy": "2023-03-06T16:14:40.970391Z",
     "iopub.status.idle": "2023-03-06T16:14:41.416396Z",
     "shell.execute_reply": "2023-03-06T16:14:41.415352Z"
    },
    "papermill": {
     "duration": 0.461218,
     "end_time": "2023-03-06T16:14:41.418775",
     "exception": false,
     "start_time": "2023-03-06T16:14:40.957557",
     "status": "completed"
    },
    "tags": []
   },
   "outputs": [
    {
     "data": {
      "text/plain": [
       "<seaborn.axisgrid.FacetGrid at 0x7f0884c66d50>"
      ]
     },
     "execution_count": 20,
     "metadata": {},
     "output_type": "execute_result"
    },
    {
     "data": {
      "image/png": "[encoded data removed]",
      "text/plain": [
       "<Figure size 500x500 with 1 Axes>"
      ]
     },
     "metadata": {},
     "output_type": "display_data"
    }
   ],
   "source": [
    "mpl.rc('font', size = 15) # 폰트 크기를 15로 설정\n",
    "sns.displot(train['count'])"
   ]
  },
  {
   "cell_type": "markdown",
   "id": "093ab22a",
   "metadata": {
    "papermill": {
     "duration": 0.012089,
     "end_time": "2023-03-06T16:14:41.443429",
     "exception": false,
     "start_time": "2023-03-06T16:14:41.431340",
     "status": "completed"
    },
    "tags": []
   },
   "source": [
    "-  `count`가 0 근처에 몰려있음을 확인할 수 있다.😮❗\n",
    "- 회귀 모델이 좋은 성능을 내려면 데이터가 정규분포 따르는 것이 좋다. ➡️ **로그 변환**"
   ]
  },
  {
   "cell_type": "code",
   "execution_count": 21,
   "id": "5a537cde",
   "metadata": {
    "execution": {
     "iopub.execute_input": "2023-03-06T16:14:41.471329Z",
     "iopub.status.busy": "2023-03-06T16:14:41.469955Z",
     "iopub.status.idle": "2023-03-06T16:14:41.876309Z",
     "shell.execute_reply": "2023-03-06T16:14:41.875314Z"
    },
    "papermill": {
     "duration": 0.422777,
     "end_time": "2023-03-06T16:14:41.878553",
     "exception": false,
     "start_time": "2023-03-06T16:14:41.455776",
     "status": "completed"
    },
    "tags": []
   },
   "outputs": [
    {
     "data": {
      "text/plain": [
       "<seaborn.axisgrid.FacetGrid at 0x7f086f019810>"
      ]
     },
     "execution_count": 21,
     "metadata": {},
     "output_type": "execute_result"
    },
    {
     "data": {
      "image/png": "[encoded data removed]",
      "text/plain": [
       "<Figure size 500x500 with 1 Axes>"
      ]
     },
     "metadata": {},
     "output_type": "display_data"
    }
   ],
   "source": [
    "sns.displot(np.log(train['count']))"
   ]
  },
  {
   "cell_type": "markdown",
   "id": "8e655b81",
   "metadata": {
    "papermill": {
     "duration": 0.012279,
     "end_time": "2023-03-06T16:14:41.903760",
     "exception": false,
     "start_time": "2023-03-06T16:14:41.891481",
     "status": "completed"
    },
    "tags": []
   },
   "source": [
    "### 막대 그래프"
   ]
  },
  {
   "cell_type": "code",
   "execution_count": null,
   "id": "6a22d962",
   "metadata": {
    "papermill": {
     "duration": 0.012179,
     "end_time": "2023-03-06T16:14:41.928592",
     "exception": false,
     "start_time": "2023-03-06T16:14:41.916413",
     "status": "completed"
    },
    "tags": []
   },
   "outputs": [],
   "source": []
  },
  {
   "cell_type": "code",
   "execution_count": null,
   "id": "a01c685b",
   "metadata": {
    "papermill": {
     "duration": 0.01224,
     "end_time": "2023-03-06T16:14:41.953451",
     "exception": false,
     "start_time": "2023-03-06T16:14:41.941211",
     "status": "completed"
    },
    "tags": []
   },
   "outputs": [],
   "source": []
  },
  {
   "cell_type": "code",
   "execution_count": null,
   "id": "58e54c7c",
   "metadata": {
    "papermill": {
     "duration": 0.012239,
     "end_time": "2023-03-06T16:14:41.978227",
     "exception": false,
     "start_time": "2023-03-06T16:14:41.965988",
     "status": "completed"
    },
    "tags": []
   },
   "outputs": [],
   "source": []
  },
  {
   "cell_type": "code",
   "execution_count": null,
   "id": "7f198ca4",
   "metadata": {
    "papermill": {
     "duration": 0.012245,
     "end_time": "2023-03-06T16:14:42.003047",
     "exception": false,
     "start_time": "2023-03-06T16:14:41.990802",
     "status": "completed"
    },
    "tags": []
   },
   "outputs": [],
   "source": []
  },
  {
   "cell_type": "code",
   "execution_count": null,
   "id": "e51e0c3a",
   "metadata": {
    "papermill": {
     "duration": 0.012332,
     "end_time": "2023-03-06T16:14:42.028015",
     "exception": false,
     "start_time": "2023-03-06T16:14:42.015683",
     "status": "completed"
    },
    "tags": []
   },
   "outputs": [],
   "source": []
  },
  {
   "cell_type": "code",
   "execution_count": null,
   "id": "feae3c9d",
   "metadata": {
    "papermill": {
     "duration": 0.012437,
     "end_time": "2023-03-06T16:14:42.053047",
     "exception": false,
     "start_time": "2023-03-06T16:14:42.040610",
     "status": "completed"
    },
    "tags": []
   },
   "outputs": [],
   "source": []
  },
  {
   "cell_type": "code",
   "execution_count": null,
   "id": "090d3877",
   "metadata": {
    "papermill": {
     "duration": 0.012275,
     "end_time": "2023-03-06T16:14:42.078035",
     "exception": false,
     "start_time": "2023-03-06T16:14:42.065760",
     "status": "completed"
    },
    "tags": []
   },
   "outputs": [],
   "source": []
  },
  {
   "cell_type": "code",
   "execution_count": null,
   "id": "b07c3e09",
   "metadata": {
    "papermill": {
     "duration": 0.012259,
     "end_time": "2023-03-06T16:14:42.102885",
     "exception": false,
     "start_time": "2023-03-06T16:14:42.090626",
     "status": "completed"
    },
    "tags": []
   },
   "outputs": [],
   "source": []
  },
  {
   "cell_type": "code",
   "execution_count": null,
   "id": "8698827c",
   "metadata": {
    "papermill": {
     "duration": 0.012267,
     "end_time": "2023-03-06T16:14:42.127817",
     "exception": false,
     "start_time": "2023-03-06T16:14:42.115550",
     "status": "completed"
    },
    "tags": []
   },
   "outputs": [],
   "source": []
  },
  {
   "cell_type": "code",
   "execution_count": null,
   "id": "f96091f3",
   "metadata": {
    "papermill": {
     "duration": 0.012182,
     "end_time": "2023-03-06T16:14:42.152612",
     "exception": false,
     "start_time": "2023-03-06T16:14:42.140430",
     "status": "completed"
    },
    "tags": []
   },
   "outputs": [],
   "source": []
  },
  {
   "cell_type": "code",
   "execution_count": null,
   "id": "6e754fdd",
   "metadata": {
    "papermill": {
     "duration": 0.012201,
     "end_time": "2023-03-06T16:14:42.177294",
     "exception": false,
     "start_time": "2023-03-06T16:14:42.165093",
     "status": "completed"
    },
    "tags": []
   },
   "outputs": [],
   "source": []
  }
 ],
 "metadata": {
  "kernelspec": {
   "display_name": "Python 3",
   "language": "python",
   "name": "python3"
  },
  "language_info": {
   "codemirror_mode": {
    "name": "ipython",
    "version": 3
   },
   "file_extension": ".py",
   "mimetype": "text/x-python",
   "name": "python",
   "nbconvert_exporter": "python",
   "pygments_lexer": "ipython3",
   "version": "3.7.12"
  },
  "papermill": {
   "default_parameters": {},
   "duration": 16.59311,
   "end_time": "2023-03-06T16:14:43.014492",
   "environment_variables": {},
   "exception": null,
   "input_path": "__notebook__.ipynb",
   "output_path": "__notebook__.ipynb",
   "parameters": {},
   "start_time": "2023-03-06T16:14:26.421382",
   "version": "2.4.0"
  }
 },
 "nbformat": 4,
 "nbformat_minor": 5
}
